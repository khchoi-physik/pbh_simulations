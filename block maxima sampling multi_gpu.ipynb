{
  "nbformat": 4,
  "nbformat_minor": 0,
  "metadata": {
    "colab": {
      "provenance": [],
      "authorship_tag": "ABX9TyO9fVrxblnWATcU7FcqiuCT",
      "include_colab_link": true
    },
    "kernelspec": {
      "name": "python3",
      "display_name": "Python 3"
    },
    "language_info": {
      "name": "python"
    }
  },
  "cells": [
    {
      "cell_type": "markdown",
      "metadata": {
        "id": "view-in-github",
        "colab_type": "text"
      },
      "source": [
        "<a href=\"https://colab.research.google.com/github/khchoi-physik/pbh_simulations/blob/main/block%20maxima%20sampling%20multi_gpu.ipynb\" target=\"_parent\"><img src=\"https://colab.research.google.com/assets/colab-badge.svg\" alt=\"Open In Colab\"/></a>"
      ]
    },
    {
      "cell_type": "code",
      "execution_count": null,
      "metadata": {
        "id": "1jUI7D6FSIiV"
      },
      "outputs": [],
      "source": [
        "# @title Import packages\n",
        "\n",
        "import cupy as cp\n",
        "from cupyx.scipy.special import erf\n",
        "\n",
        "import numpy as np\n",
        "#import pyfftw\n",
        "import matplotlib.pyplot as plt\n",
        "import gc\n",
        "import os\n",
        "import time\n",
        "import multiprocessing\n",
        "from datetime import datetime\n"
      ]
    },
    {
      "cell_type": "code",
      "source": [
        "# @title 1 GPU simulation\n",
        "\n",
        "# @title 1.11 GPU Random field simulations\n",
        "\n",
        "class GPU_RFSIM:\n",
        "\n",
        "    def __init__(self, mean, std_dev, pixel, z_pixel, amplitude, k_power, lamb):\n",
        "        self.mean = mean\n",
        "        self.std_dev = std_dev\n",
        "        self.pixel = pixel\n",
        "        self.z_pixel = z_pixel\n",
        "        self.amplitude = amplitude\n",
        "        self.k_power = k_power\n",
        "        self.lamb = lamb\n",
        "\n",
        "    def grf_64f(self):\n",
        "        # 3D Fast Fourier transform of the white noise\n",
        "        white_noise = cp.random.normal(self.mean, self.std_dev, (self.pixel, self.pixel, self.z_pixel))\n",
        "\n",
        "        fft_white_noise = cp.fft.fftn(white_noise)\n",
        "        del white_noise\n",
        "\n",
        "        # Generating FFT momentum\n",
        "        kx = cp.fft.fftfreq(self.pixel)*self.pixel\n",
        "        ky = cp.fft.fftfreq(self.pixel)*self.pixel\n",
        "        kz = cp.fft.fftfreq(self.z_pixel)*self.z_pixel\n",
        "\n",
        "        kx_grid, ky_grid, kz_grid = cp.meshgrid(kx, ky, kz, sparse = True)\n",
        "        del kx, ky, kz\n",
        "        # Norm of k\n",
        "\n",
        "        k_norm = cp.sqrt(kx_grid**2 + ky_grid**2  + kz_grid**2)\n",
        "        k_norm[0][0][0] = cp.inf  # Regularize divergence at k=0\n",
        "        del kx_grid, ky_grid, kz_grid\n",
        "\n",
        "        # Power Spectrum P_k\n",
        "        power_spectrum = (self.amplitude*(((2*cp.pi/self.pixel)*k_norm)**(-1*self.k_power)))  # P(k)=amplitude/k^{power},\n",
        "        del k_norm\n",
        "\n",
        "        # Multiply the power spectrum with the transformed white noise to get the realization of the spectrum\n",
        "        fourier_amplitudes_sqrt =  cp.sqrt(power_spectrum, out=power_spectrum)*fft_white_noise\n",
        "        del power_spectrum, fft_white_noise\n",
        "\n",
        "        # Perform inverse Fourier transform to obtain the Gaussian random field in the spatial domain\n",
        "        gaussian_random_field = cp.fft.ifftn(fourier_amplitudes_sqrt).real\n",
        "        del fourier_amplitudes_sqrt\n",
        "        gc.collect()\n",
        "\n",
        "        return gaussian_random_field\n",
        "\n",
        "\n",
        "    def gaussian_to_exp(self, grf):\n",
        "        grf_mean = cp.mean(grf)\n",
        "        grf_std_dev = cp.std(grf)\n",
        "        xu = 0.5 * (1 + erf((grf - grf_mean) / (cp.sqrt(2) * grf_std_dev)))\n",
        "\n",
        "        gc.collect()\n",
        "\n",
        "        exprf = -1/self.lamb  * cp.log(1 - xu)\n",
        "\n",
        "        return exprf"
      ],
      "metadata": {
        "id": "RFHN9Hp4SJ-P"
      },
      "execution_count": null,
      "outputs": []
    },
    {
      "cell_type": "code",
      "source": [
        "# @title 1.31 GPU sampling\n",
        "class GPU_SAMPLING:\n",
        "\n",
        "    def __init__(self, exprf, pixel, z_pixel):\n",
        "        self.pixel = pixel\n",
        "        self.z_pixel = z_pixel\n",
        "        self.exprf = exprf\n",
        "\n",
        "\n",
        "    def max_sub_exprfs(self, lx, ly, lz, x, y, z):\n",
        "\n",
        "        x_min, x_max = max(x-lx,0), min(x+lx +1, self.pixel)\n",
        "        y_min, y_max = max(y-ly,0), min(y+ly +1, self.pixel)\n",
        "        z_min, z_max = max(z-lz,0), min(z+lz +1, self.z_pixel)\n",
        "\n",
        "        sub_exprf = self.exprf[x_min:x_max, y_min:y_max, z_min:z_max]\n",
        "\n",
        "        return cp.max(sub_exprf)\n",
        "\n",
        "    def sub_exprfs(self, lx, ly, lz, x, y, z):\n",
        "\n",
        "        x_min, x_max = max(x-lx,0), min(x+lx +1, self.pixel)\n",
        "        y_min, y_max = max(y-ly,0), min(y+ly +1, self.pixel)\n",
        "        z_min, z_max = max(z-lz,0), min(z+lz +1, self.z_pixel)\n",
        "\n",
        "        return self.exprf[x_min:x_max, y_min:y_max, z_min:z_max]"
      ],
      "metadata": {
        "id": "FE8wDY58SNQ1"
      },
      "execution_count": null,
      "outputs": []
    },
    {
      "cell_type": "code",
      "source": [],
      "metadata": {
        "id": "Z9tzjQjTSZB7"
      },
      "execution_count": null,
      "outputs": []
    },
    {
      "cell_type": "code",
      "source": [
        "main_path = os.getcwd()\n",
        "\n",
        "folder_path = main_path + '/block_maxima_data'\n",
        "\n",
        "os.chdir(folder_path)\n",
        "os.getcwd()"
      ],
      "metadata": {
        "id": "poQrB5hWSPLs"
      },
      "execution_count": null,
      "outputs": []
    },
    {
      "cell_type": "code",
      "source": [
        "# @title 1.5 paramteres\n",
        "\n",
        "pixel = 2**9\n",
        "z_pixel = pixel\n",
        "\n",
        "k_power = 3\n",
        "# initialization\n",
        "length_list = [16,32] # Due to infinite loop, only the first item will be processed\n",
        "\n",
        "num_gpu = 4 #number of GPU"
      ],
      "metadata": {
        "id": "zMFS2PmaSQ-p"
      },
      "execution_count": null,
      "outputs": []
    },
    {
      "cell_type": "code",
      "source": [
        "# @title Block maximia sampling function\n",
        "\n",
        "def execute_block_maxima_sampling(gpu_id):\n",
        "\n",
        "    cp.cuda.Device(gpu_id).use()\n",
        "\n",
        "    start_time = time.time()\n",
        "\n",
        "    for l in length_list:\n",
        "\n",
        "        lx,ly,lz= l, l, l\n",
        "        # Size of the simulation box\n",
        "\n",
        "        max_amplitude_list = []\n",
        "        # Prepare empty data list\n",
        "\n",
        "        num_sub_exprf = int((pixel//(2*l+1))-1)\n",
        "        # Total number of smaller simulation box along a given axis.\n",
        "\n",
        "        max_pixel = num_sub_exprf*(2*l+1)\n",
        "        # Maximum pixel that the simulation can reach. There is a margin to prevent reaching the boundary.\n",
        "\n",
        "        rfsim = GPU_RFSIM(mean=0, std_dev=1, pixel=pixel, z_pixel=z_pixel, amplitude=1.0, k_power=k_power, lamb=1.0)\n",
        "        # Simulation initialization\n",
        "\n",
        "        loops = int(2e6/(num_sub_exprf**3))\n",
        "        print(f'Total # of loops = {loops}', f'\\nLength size = {2*l+1}')\n",
        "        # The total number of loops that will be running\n",
        "\n",
        "\n",
        "        ii = 0\n",
        "        while True:\n",
        "\n",
        "            grf = rfsim.grf_64f()\n",
        "            exprf = rfsim.gaussian_to_exp(grf)\n",
        "            del grf\n",
        "            # Simulation and convert to exponential fields\n",
        "\n",
        "            gpu_sampling = GPU_SAMPLING(exprf=exprf, pixel=pixel, z_pixel= pixel)\n",
        "            # Initialization of Small simulation box sampling\n",
        "\n",
        "#             ii += 1\n",
        "#             if ii%100==0:\n",
        "#                 print(f'Iter {ii}')\n",
        "#                 ii=0\n",
        "#             # for counting the number of loops for debugging\n",
        "\n",
        "            for x in range(lx+1, max_pixel, 2*lx+1):\n",
        "                for y in range(ly+1,  max_pixel, 2*ly+1):\n",
        "                    for z in range(lz+1, max_pixel, 2*lz+1):\n",
        "\n",
        "                        max_amplitude_list.append( cp.asnumpy(gpu_sampling.max_sub_exprfs(lx, ly, lz, x, y, z)) )\n",
        "                        # For a given simulation box, find the block maxima. Append to the list.\n",
        "\n",
        "            if len(max_amplitude_list) > 1e6:\n",
        "                timenow = datetime.now().strftime(\"%d%H%M%S\")\n",
        "                cp.save(f'max_ampligude_l_{l}_k_{k_power}_gpu_{gpu_id}_{timenow}.npy', max_amplitude_list)\n",
        "                print(f'Saved block maxima data list at {timenow} for GPU {gpu_id}, resetting data list')\n",
        "                max_amplitude_list = []\n",
        "                # If the list has more than n items, save the list\n"
      ],
      "metadata": {
        "id": "_kSJd0yUSaFt"
      },
      "execution_count": null,
      "outputs": []
    },
    {
      "cell_type": "code",
      "source": [
        "# @title Simulation execute\n",
        "if __name__ == '__main__':\n",
        "\n",
        "    # Create a multiprocessing pool for GPU\n",
        "    pool = multiprocessing.Pool(processes=num_gpu)\n",
        "\n",
        "    # Define GPU ID\n",
        "    gpu_ids = range(num_gpu)\n",
        "    #progress_bar = tqdm(total=Nloops, desc=\"Simulations\", miniters = update_interval)\n",
        "\n",
        "    # Map the simulation to GPU\n",
        "    pool.map(execute_block_maxima_sampling, gpu_ids)\n",
        "\n",
        "\n",
        "    pool.close()\n",
        "    pool.join()"
      ],
      "metadata": {
        "id": "-m5YQ9fVSaz_"
      },
      "execution_count": null,
      "outputs": []
    }
  ]
}