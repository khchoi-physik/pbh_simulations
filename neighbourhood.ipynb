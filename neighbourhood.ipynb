{
  "nbformat": 4,
  "nbformat_minor": 0,
  "metadata": {
    "colab": {
      "provenance": [],
      "gpuType": "T4",
      "authorship_tag": "ABX9TyN6MMNbX5QbAeMyZiSt140L",
      "include_colab_link": true
    },
    "kernelspec": {
      "name": "python3",
      "display_name": "Python 3"
    },
    "language_info": {
      "name": "python"
    },
    "accelerator": "GPU"
  },
  "cells": [
    {
      "cell_type": "markdown",
      "metadata": {
        "id": "view-in-github",
        "colab_type": "text"
      },
      "source": [
        "<a href=\"https://colab.research.google.com/github/khchoi-physik/pbh_simulations/blob/main/neighbourhood.ipynb\" target=\"_parent\"><img src=\"https://colab.research.google.com/assets/colab-badge.svg\" alt=\"Open In Colab\"/></a>"
      ]
    },
    {
      "cell_type": "code",
      "execution_count": 1,
      "metadata": {
        "id": "dd4pZJfSDpf8"
      },
      "outputs": [],
      "source": [
        "# @title Import packages\n",
        "\n",
        "import cupy as cp\n",
        "from cupyx.scipy.special import erf\n",
        "\n",
        "import numpy as np\n",
        "#import pyfftw\n",
        "import matplotlib.pyplot as plt\n",
        "import gc\n",
        "import os\n",
        "import time\n",
        "import multiprocessing\n",
        "from datetime import datetime\n",
        "\n",
        "##### WARNING #####\n",
        "##### WARNING #####\n",
        "##### WARNING ##### IF THE SPECTRAL INDEX N>0, THE SIMULATION SHOULD RUN WITH GRF_64F_PK !!!\n",
        "##### WARNING ##### IF THE SPECTRAL INDEX N>0, THE SIMULATION SHOULD RUN WITH GRF_64F_PK !!!\n",
        "##### WARNING ##### IF THE SPECTRAL INDEX N>0, THE SIMULATION SHOULD RUN WITH GRF_64F_PK !!!\n",
        "##### WARNING ##### IF THE SPECTRAL INDEX N>0, THE SIMULATION SHOULD RUN WITH GRF_64F_PK !!!"
      ]
    },
    {
      "cell_type": "code",
      "source": [
        "# @title 1 GPU simulation\n",
        "\n",
        "# @title 1.11 GPU Random field simulations\n",
        "\n",
        "class GPU_RFSIM:\n",
        "\n",
        "    def __init__(self, mean, std_dev, pixel, z_pixel, amplitude, k_power, lamb):\n",
        "        self.mean = mean\n",
        "        self.std_dev = std_dev\n",
        "        self.pixel = pixel\n",
        "        self.z_pixel = z_pixel\n",
        "        self.amplitude = amplitude\n",
        "        self.k_power = k_power\n",
        "        self.lamb = lamb\n",
        "\n",
        "    def grf_64f(self):\n",
        "        # 3D Fast Fourier transform of the white noise\n",
        "        white_noise = cp.random.normal(self.mean, self.std_dev, (self.pixel, self.pixel, self.z_pixel))\n",
        "\n",
        "        fft_white_noise = cp.fft.fftn(white_noise)\n",
        "        del white_noise\n",
        "\n",
        "        # Generating FFT momentum\n",
        "        kx = cp.fft.fftfreq(self.pixel)*self.pixel\n",
        "        ky = cp.fft.fftfreq(self.pixel)*self.pixel\n",
        "        kz = cp.fft.fftfreq(self.z_pixel)*self.z_pixel\n",
        "\n",
        "        kx_grid, ky_grid, kz_grid = cp.meshgrid(kx, ky, kz, sparse = True)\n",
        "        del kx, ky, kz\n",
        "        # Norm of k\n",
        "\n",
        "        k_norm = cp.sqrt(kx_grid**2 + ky_grid**2  + kz_grid**2)\n",
        "        k_norm[0][0][0] = cp.inf  # Regularize divergence at k=0\n",
        "        del kx_grid, ky_grid, kz_grid\n",
        "\n",
        "        # Power Spectrum P_k\n",
        "        power_spectrum = (self.amplitude*(((2*cp.pi/self.pixel)*k_norm)**(-1*self.k_power)))  # P(k)=amplitude/k^{power},\n",
        "        del k_norm\n",
        "\n",
        "        # Multiply the power spectrum with the transformed white noise to get the realization of the spectrum\n",
        "        fourier_amplitudes_sqrt =  cp.sqrt(power_spectrum, out=power_spectrum)*fft_white_noise\n",
        "        del power_spectrum, fft_white_noise\n",
        "\n",
        "        # Perform inverse Fourier transform to obtain the Gaussian random field in the spatial domain\n",
        "        gaussian_random_field = cp.fft.ifftn(fourier_amplitudes_sqrt).real\n",
        "        del fourier_amplitudes_sqrt\n",
        "        gc.collect()\n",
        "\n",
        "        return gaussian_random_field\n",
        "\n",
        "    def grf_64f_pk(self):\n",
        "        # 3D Fast Fourier transform of the white noise\n",
        "        white_noise = cp.random.normal(self.mean, self.std_dev, (self.pixel, self.pixel, self.z_pixel))\n",
        "        #print(f\"white_noise allocates: {white_noise.nbytes / (1024**2):.2f} MB of memory.\")\n",
        "        #print(f\"Total memory usage: {self.get_process_memory():.2f} MB\")\n",
        "\n",
        "        fft_white_noise = cp.fft.fftn(white_noise)\n",
        "        del white_noise\n",
        "        #print(f\"fft_white_noise allocates: {fft_white_noise.nbytes / (1024**2):.2f} MB of memory.\")\n",
        "        #print(f\"Total memory usage: {self.get_process_memory():.2f} MB\")\n",
        "\n",
        "        # Generating FFT momentum\n",
        "        kx = cp.fft.fftfreq(self.pixel)*self.pixel\n",
        "        ky = cp.fft.fftfreq(self.pixel)*self.pixel\n",
        "        kz = cp.fft.fftfreq(self.z_pixel)*self.z_pixel\n",
        "\n",
        "        kx_grid, ky_grid, kz_grid = cp.meshgrid(kx, ky, kz, sparse = True)\n",
        "        del kx, ky, kz\n",
        "        # Genearting FFT momentum 3D array\n",
        "        # Norm of k\n",
        "\n",
        "        k_norm = cp.sqrt(kx_grid**2 + ky_grid**2  + kz_grid**2)\n",
        "        del kx_grid, ky_grid, kz_grid\n",
        "        #print(f\"k_norm allocates: {k_norm.nbytes / (1024**2):.2f} MB of memory\")\n",
        "        #print(f\"Total memory usage: {self.get_process_memory():.2f} MB\")\n",
        "\n",
        "        # Power Spectrum P_k\n",
        "        power_spectrum = (self.amplitude*(((2*cp.pi/self.pixel)*k_norm)**(-1*self.k_power)))  # P(k)=amplitude/k^{power},\n",
        "        del k_norm\n",
        "        #print(f\"power_spectrum allocates: {power_spectrum.nbytes / (1024**2):.2f} MB of memory\")\n",
        "        #print(f\"Total memory usage: {self.get_process_memory():.2f} MB\")\n",
        "\n",
        "        # Multiply the power spectrum with the transformed white noise to get the realization of the spectrum\n",
        "        fourier_amplitudes_sqrt =  cp.sqrt(power_spectrum, out=power_spectrum)*fft_white_noise\n",
        "        del power_spectrum, fft_white_noise\n",
        "        #print(f\"fourier_amplitudes_sqrt allocates: {fourier_amplitudes_sqrt.nbytes / (1024**2):.2f} MB of memory\")\n",
        "        #print(f\"Total memory usage: {self.get_process_memory():.2f} MB\")\n",
        "\n",
        "        # Perform inverse Fourier transform to obtain the Gaussian random field in the spatial domain\n",
        "        gaussian_random_field = cp.fft.ifftn(fourier_amplitudes_sqrt).real\n",
        "        del fourier_amplitudes_sqrt\n",
        "        gc.collect()\n",
        "        #print(f\"gaussian_random_field allocates: {gaussian_random_field.nbytes / (1024**2):.2f} MB of memory\")\n",
        "\n",
        "        # Final estimation of memory usage\n",
        "        #print(f\"Total memory usage: {self.get_process_memory():.2f} MB\")\n",
        "\n",
        "        return gaussian_random_field\n",
        "\n",
        "    def gaussian_to_exp(self, grf):\n",
        "        grf_mean = cp.mean(grf)\n",
        "        grf_std_dev = cp.std(grf)\n",
        "        xu = 0.5 * (1 + erf((grf - grf_mean) / (cp.sqrt(2) * grf_std_dev)))\n",
        "\n",
        "        gc.collect()\n",
        "\n",
        "        exprf = -1/self.lamb  * cp.log(1 - xu)\n",
        "\n",
        "        return exprf"
      ],
      "metadata": {
        "id": "9BTpjHLFDs6b"
      },
      "execution_count": 2,
      "outputs": []
    },
    {
      "cell_type": "code",
      "source": [
        "# @title 1.5 paramteres\n",
        "\n",
        "# full simulation box size\n",
        "pixel = 2**9\n",
        "\n",
        "# rectangluar\n",
        "z_pixel = pixel\n",
        "\n",
        "# power spectrum\n",
        "k_power = 3\n",
        "\n",
        "# threshold exceeding\n",
        "# s6 = 20, s7 = 27\n",
        "threshold = 20\n",
        "\n",
        "# box size\n",
        "length = 16\n",
        "\n",
        "# Predefined buffer size for storing data\n",
        "buffer_size = 10\n",
        "\n",
        "# Preallocate buffer\n",
        "save_sub_exprf = cp.zeros((buffer_size, (2 * length + 1) ** 3))\n"
      ],
      "metadata": {
        "id": "-X3xJ2QzDwex"
      },
      "execution_count": 4,
      "outputs": []
    },
    {
      "cell_type": "code",
      "source": [
        "import time\n",
        "\n",
        "# index\n",
        "idx =0\n",
        "\n",
        "t0 = time.time()\n",
        "\n",
        "# Initialize an instance of RFSIM\n",
        "rfsim = GPU_RFSIM(mean=0, std_dev=1, pixel=pixel, z_pixel=z_pixel, amplitude=1.0, k_power=k_power, lamb=1.0)\n",
        "\n",
        "while True:\n",
        "    # Generate a Gaussian random field\n",
        "    grf = rfsim.grf_64f()  # grf can be _32f or _64f\n",
        "\n",
        "    ##grf = rfsim.grf_64f_pk()  # grf can be _32f or _64f\n",
        "    exprf = rfsim.gaussian_to_exp(grf)\n",
        "    del grf\n",
        "\n",
        "    if cp.max(exprf)  >= threshold:\n",
        "\n",
        "        max_pos = cp.unravel_index(cp.argmax(exprf),(pixel,pixel,pixel))\n",
        "\n",
        "        xmin = max_pos[0] -length\n",
        "        xmax = max_pos[0] +length +1\n",
        "        ymin = max_pos[1] -length\n",
        "        ymax = max_pos[1] +length +1\n",
        "        zmin = max_pos[2] -length\n",
        "        zmax = max_pos[2] +length +1\n",
        "\n",
        "        if xmax < pixel and ymax < pixel and zmax < pixel and xmin > 0 and ymin > 0 and zmin > 0 :\n",
        "            sub_exprf = exprf[xmin:xmax,ymin:ymax,zmin:zmax].flatten()\n",
        "            save_sub_exprf[idx] = sub_exprf  # Store the data in the buffer\n",
        "            idx += 1\n",
        "\n",
        "            if idx >= buffer_size:\n",
        "                print(idx, f'time = {t0 - time.time()}')\n",
        "                t0 = time.time()\n",
        "                timenow = datetime.now().strftime(\"%d%H%M%S\")\n",
        "\n",
        "                cp.save(f'sub_exprfs_{buffer_size}_l_{length}_k_{k_power}_{timenow}.npy', save_sub_exprf)\n",
        "\n",
        "                save_sub_exprf = cp.zeros((buffer_size, (2 * length + 1) ** 3))  # Preallocate buffer\n",
        "                idx = 0  # Reset the buffer index\n",
        "\n",
        "            del sub_exprf\n",
        "\n",
        "    del exprf\n",
        "\n",
        "\n",
        "\n"
      ],
      "metadata": {
        "id": "uI8EXvdqEBoS"
      },
      "execution_count": null,
      "outputs": []
    },
    {
      "cell_type": "code",
      "source": [
        "import glob\n",
        "npy_list= glob.glob('*.npy')"
      ],
      "metadata": {
        "id": "a3GwUTfSG4Bj"
      },
      "execution_count": 6,
      "outputs": []
    },
    {
      "cell_type": "code",
      "source": [
        "npy_list"
      ],
      "metadata": {
        "colab": {
          "base_uri": "https://localhost:8080/"
        },
        "id": "3c-HhRpqIBbh",
        "outputId": "807c3375-d47b-496e-e397-87d8fac80d1c"
      },
      "execution_count": 7,
      "outputs": [
        {
          "output_type": "execute_result",
          "data": {
            "text/plain": [
              "['sub_exprfs_10_l_16_k_3_07140545.npy',\n",
              " 'sub_exprfs_10_l_16_k_3_07140145.npy',\n",
              " 'sub_exprfs_10_l_16_k_3_07140342.npy',\n",
              " 'sub_exprfs_10_l_16_k_3_07135928.npy']"
            ]
          },
          "metadata": {},
          "execution_count": 7
        }
      ]
    },
    {
      "cell_type": "code",
      "source": [
        "sas1=np.load('sub_exprfs_10_l_16_k_3_07140145.npy')"
      ],
      "metadata": {
        "id": "eyOwmT9uHiic"
      },
      "execution_count": 14,
      "outputs": []
    },
    {
      "cell_type": "code",
      "source": [],
      "metadata": {
        "id": "4Ns5DID4Tgl-"
      },
      "execution_count": 14,
      "outputs": []
    },
    {
      "cell_type": "code",
      "source": [],
      "metadata": {
        "id": "NAxxIHiFTgY_"
      },
      "execution_count": 14,
      "outputs": []
    },
    {
      "cell_type": "code",
      "source": [
        "print(sas.shape)\n",
        "\n",
        "print(np.any(sas==0), np.any(np.isnan(sas)) )"
      ],
      "metadata": {
        "colab": {
          "base_uri": "https://localhost:8080/"
        },
        "id": "kklNdgttIC7S",
        "outputId": "3e4fb916-91f7-4029-ae57-a3cf20881c3d"
      },
      "execution_count": 15,
      "outputs": [
        {
          "output_type": "stream",
          "name": "stdout",
          "text": [
            "(10, 35937)\n",
            "False False\n"
          ]
        }
      ]
    },
    {
      "cell_type": "code",
      "source": [
        "dsd = np.concatenate(sas)"
      ],
      "metadata": {
        "id": "q35ZC1crIGHD"
      },
      "execution_count": 16,
      "outputs": []
    },
    {
      "cell_type": "code",
      "source": [
        "plt.hist(dsd,bins= 301, density=True);\n",
        "plt.xlim(0,25)\n",
        "plt.yscale('log')"
      ],
      "metadata": {
        "colab": {
          "base_uri": "https://localhost:8080/",
          "height": 430
        },
        "id": "JR8qscx5N6VI",
        "outputId": "cd1807c4-c864-44b8-cbe6-aa1295a3b8b5"
      },
      "execution_count": 19,
      "outputs": [
        {
          "output_type": "display_data",
          "data": {
            "text/plain": [
              "<Figure size 640x480 with 1 Axes>"
            ],
            "image/png": "[encoded data removed]"
          },
          "metadata": {}
        }
      ]
    },
    {
      "cell_type": "code",
      "source": [],
      "metadata": {
        "colab": {
          "base_uri": "https://localhost:8080/"
        },
        "id": "mqJZCa24N-gb",
        "outputId": "c24bb2c1-a987-499f-9e86-3fea80b87281"
      },
      "execution_count": 17,
      "outputs": [
        {
          "output_type": "execute_result",
          "data": {
            "text/plain": [
              "array([[0.89885966, 3.06948954, 3.37551466, ..., 1.69266515, 1.3187044 ,\n",
              "        3.50058601],\n",
              "       [2.54429291, 8.90484194, 1.71031953, ..., 0.79207912, 0.63852435,\n",
              "        1.69815059],\n",
              "       [0.11596069, 0.4586646 , 1.97564879, ..., 0.19318393, 0.48947568,\n",
              "        0.24754315],\n",
              "       ...,\n",
              "       [5.65174561, 3.06653097, 0.34403996, ..., 4.63213813, 0.09384742,\n",
              "        1.83136866],\n",
              "       [0.43837145, 2.18301812, 1.81608961, ..., 2.64784722, 0.85825901,\n",
              "        0.41225601],\n",
              "       [0.52249867, 0.32714801, 1.32513942, ..., 0.99985054, 0.12884797,\n",
              "        0.51260744]])"
            ]
          },
          "metadata": {},
          "execution_count": 17
        }
      ]
    },
    {
      "cell_type": "code",
      "source": [],
      "metadata": {
        "id": "qaa97du5OAZp"
      },
      "execution_count": null,
      "outputs": []
    }
  ]
}