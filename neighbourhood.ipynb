{
  "nbformat": 4,
  "nbformat_minor": 0,
  "metadata": {
    "colab": {
      "provenance": [],
      "gpuType": "T4",
      "authorship_tag": "ABX9TyOt2TiqmbMtqStre2lstCEE"
    },
    "kernelspec": {
      "name": "python3",
      "display_name": "Python 3"
    },
    "language_info": {
      "name": "python"
    },
    "accelerator": "GPU"
  },
  "cells": [
    {
      "cell_type": "code",
      "execution_count": null,
      "metadata": {
        "id": "dd4pZJfSDpf8"
      },
      "outputs": [],
      "source": [
        "# @title Import packages\n",
        "\n",
        "import cupy as cp\n",
        "from cupyx.scipy.special import erf\n",
        "\n",
        "import numpy as np\n",
        "#import pyfftw\n",
        "import matplotlib.pyplot as plt\n",
        "import gc\n",
        "import os\n",
        "import time\n",
        "import multiprocessing\n",
        "from datetime import datetime\n",
        "\n",
        "##### WARNING #####\n",
        "##### WARNING #####\n",
        "##### WARNING ##### IF THE SPECTRAL INDEX N>0, THE SIMULATION SHOULD RUN WITH GRF_64F_PK !!!\n",
        "##### WARNING ##### IF THE SPECTRAL INDEX N>0, THE SIMULATION SHOULD RUN WITH GRF_64F_PK !!!\n",
        "##### WARNING ##### IF THE SPECTRAL INDEX N>0, THE SIMULATION SHOULD RUN WITH GRF_64F_PK !!!\n",
        "##### WARNING ##### IF THE SPECTRAL INDEX N>0, THE SIMULATION SHOULD RUN WITH GRF_64F_PK !!!"
      ]
    },
    {
      "cell_type": "code",
      "source": [
        "# @title 1 GPU simulation\n",
        "\n",
        "# @title 1.11 GPU Random field simulations\n",
        "\n",
        "class GPU_RFSIM:\n",
        "\n",
        "    def __init__(self, mean, std_dev, pixel, z_pixel, amplitude, k_power, lamb):\n",
        "        self.mean = mean\n",
        "        self.std_dev = std_dev\n",
        "        self.pixel = pixel\n",
        "        self.z_pixel = z_pixel\n",
        "        self.amplitude = amplitude\n",
        "        self.k_power = k_power\n",
        "        self.lamb = lamb\n",
        "\n",
        "    def grf_64f(self):\n",
        "        # 3D Fast Fourier transform of the white noise\n",
        "        white_noise = cp.random.normal(self.mean, self.std_dev, (self.pixel, self.pixel, self.z_pixel))\n",
        "\n",
        "        fft_white_noise = cp.fft.fftn(white_noise)\n",
        "        del white_noise\n",
        "\n",
        "        # Generating FFT momentum\n",
        "        kx = cp.fft.fftfreq(self.pixel)*self.pixel\n",
        "        ky = cp.fft.fftfreq(self.pixel)*self.pixel\n",
        "        kz = cp.fft.fftfreq(self.z_pixel)*self.z_pixel\n",
        "\n",
        "        kx_grid, ky_grid, kz_grid = cp.meshgrid(kx, ky, kz, sparse = True)\n",
        "        del kx, ky, kz\n",
        "        # Norm of k\n",
        "\n",
        "        k_norm = cp.sqrt(kx_grid**2 + ky_grid**2  + kz_grid**2)\n",
        "        k_norm[0][0][0] = cp.inf  # Regularize divergence at k=0\n",
        "        del kx_grid, ky_grid, kz_grid\n",
        "\n",
        "        # Power Spectrum P_k\n",
        "        power_spectrum = (self.amplitude*(((2*cp.pi/self.pixel)*k_norm)**(-1*self.k_power)))  # P(k)=amplitude/k^{power},\n",
        "        del k_norm\n",
        "\n",
        "        # Multiply the power spectrum with the transformed white noise to get the realization of the spectrum\n",
        "        fourier_amplitudes_sqrt =  cp.sqrt(power_spectrum, out=power_spectrum)*fft_white_noise\n",
        "        del power_spectrum, fft_white_noise\n",
        "\n",
        "        # Perform inverse Fourier transform to obtain the Gaussian random field in the spatial domain\n",
        "        gaussian_random_field = cp.fft.ifftn(fourier_amplitudes_sqrt).real\n",
        "        del fourier_amplitudes_sqrt\n",
        "        gc.collect()\n",
        "\n",
        "        return gaussian_random_field\n",
        "\n",
        "    def grf_64f_pk(self):\n",
        "        # 3D Fast Fourier transform of the white noise\n",
        "        white_noise = cp.random.normal(self.mean, self.std_dev, (self.pixel, self.pixel, self.z_pixel))\n",
        "        #print(f\"white_noise allocates: {white_noise.nbytes / (1024**2):.2f} MB of memory.\")\n",
        "        #print(f\"Total memory usage: {self.get_process_memory():.2f} MB\")\n",
        "\n",
        "        fft_white_noise = cp.fft.fftn(white_noise)\n",
        "        del white_noise\n",
        "        #print(f\"fft_white_noise allocates: {fft_white_noise.nbytes / (1024**2):.2f} MB of memory.\")\n",
        "        #print(f\"Total memory usage: {self.get_process_memory():.2f} MB\")\n",
        "\n",
        "        # Generating FFT momentum\n",
        "        kx = cp.fft.fftfreq(self.pixel)*self.pixel\n",
        "        ky = cp.fft.fftfreq(self.pixel)*self.pixel\n",
        "        kz = cp.fft.fftfreq(self.z_pixel)*self.z_pixel\n",
        "\n",
        "        kx_grid, ky_grid, kz_grid = cp.meshgrid(kx, ky, kz, sparse = True)\n",
        "        del kx, ky, kz\n",
        "        # Genearting FFT momentum 3D array\n",
        "        # Norm of k\n",
        "\n",
        "        k_norm = cp.sqrt(kx_grid**2 + ky_grid**2  + kz_grid**2)\n",
        "        del kx_grid, ky_grid, kz_grid\n",
        "        #print(f\"k_norm allocates: {k_norm.nbytes / (1024**2):.2f} MB of memory\")\n",
        "        #print(f\"Total memory usage: {self.get_process_memory():.2f} MB\")\n",
        "\n",
        "        # Power Spectrum P_k\n",
        "        power_spectrum = (self.amplitude*(((2*cp.pi/self.pixel)*k_norm)**(-1*self.k_power)))  # P(k)=amplitude/k^{power},\n",
        "        del k_norm\n",
        "        #print(f\"power_spectrum allocates: {power_spectrum.nbytes / (1024**2):.2f} MB of memory\")\n",
        "        #print(f\"Total memory usage: {self.get_process_memory():.2f} MB\")\n",
        "\n",
        "        # Multiply the power spectrum with the transformed white noise to get the realization of the spectrum\n",
        "        fourier_amplitudes_sqrt =  cp.sqrt(power_spectrum, out=power_spectrum)*fft_white_noise\n",
        "        del power_spectrum, fft_white_noise\n",
        "        #print(f\"fourier_amplitudes_sqrt allocates: {fourier_amplitudes_sqrt.nbytes / (1024**2):.2f} MB of memory\")\n",
        "        #print(f\"Total memory usage: {self.get_process_memory():.2f} MB\")\n",
        "\n",
        "        # Perform inverse Fourier transform to obtain the Gaussian random field in the spatial domain\n",
        "        gaussian_random_field = cp.fft.ifftn(fourier_amplitudes_sqrt).real\n",
        "        del fourier_amplitudes_sqrt\n",
        "        gc.collect()\n",
        "        #print(f\"gaussian_random_field allocates: {gaussian_random_field.nbytes / (1024**2):.2f} MB of memory\")\n",
        "\n",
        "        # Final estimation of memory usage\n",
        "        #print(f\"Total memory usage: {self.get_process_memory():.2f} MB\")\n",
        "\n",
        "        return gaussian_random_field\n",
        "\n",
        "    def gaussian_to_exp(self, grf):\n",
        "        grf_mean = cp.mean(grf)\n",
        "        grf_std_dev = cp.std(grf)\n",
        "        xu = 0.5 * (1 + erf((grf - grf_mean) / (cp.sqrt(2) * grf_std_dev)))\n",
        "\n",
        "        gc.collect()\n",
        "\n",
        "        exprf = -1/self.lamb  * cp.log(1 - xu)\n",
        "\n",
        "        return exprf"
      ],
      "metadata": {
        "id": "9BTpjHLFDs6b"
      },
      "execution_count": null,
      "outputs": []
    },
    {
      "cell_type": "code",
      "source": [
        "# @title Paramteres\n",
        "\n",
        "# full simulation box size\n",
        "pixel = 2**9\n",
        "\n",
        "# rectangluar\n",
        "z_pixel = pixel\n",
        "\n",
        "# power spectrum\n",
        "k_power = 3\n",
        "\n",
        "# threshold exceeding\n",
        "# s6 = 20, s7 = 27\n",
        "threshold = 20\n",
        "\n",
        "# box size\n",
        "length = 16\n",
        "\n",
        "# Predefined buffer size for storing data\n",
        "buffer_size = 2\n",
        "\n",
        "# Preallocate buffer\n",
        "save_sub_exprf = cp.zeros((buffer_size, (2 * length + 1) ** 3 - 1 ))\n"
      ],
      "metadata": {
        "id": "-X3xJ2QzDwex"
      },
      "execution_count": null,
      "outputs": []
    },
    {
      "cell_type": "code",
      "source": [
        "# @title Simulations\n",
        "\n",
        "# index\n",
        "idx =0\n",
        "\n",
        "t0 = time.time()\n",
        "\n",
        "# Initialize an instance of RFSIM\n",
        "rfsim = GPU_RFSIM(mean=0, std_dev=1, pixel=pixel, z_pixel=z_pixel, amplitude=1.0, k_power=k_power, lamb=1.0)\n",
        "\n",
        "while True:\n",
        "    # Generate a Gaussian random field\n",
        "    grf = rfsim.grf_64f()  # grf can be _32f or _64f\n",
        "\n",
        "    ##grf = rfsim.grf_64f_pk()  # grf can be _32f or _64f\n",
        "    exprf = rfsim.gaussian_to_exp(grf)\n",
        "    del grf\n",
        "\n",
        "    if cp.max(exprf)  >= threshold:\n",
        "\n",
        "        max_pos = cp.unravel_index(cp.argmax(exprf),(pixel,pixel,pixel))\n",
        "\n",
        "        xmin = max_pos[0] -length\n",
        "        xmax = max_pos[0] +length +1\n",
        "        ymin = max_pos[1] -length\n",
        "        ymax = max_pos[1] +length +1\n",
        "        zmin = max_pos[2] -length\n",
        "        zmax = max_pos[2] +length +1\n",
        "\n",
        "        if xmax < pixel and ymax < pixel and zmax < pixel and xmin > 0 and ymin > 0 and zmin > 0 :\n",
        "\n",
        "            sub_exprf = exprf[xmin:xmax,ymin:ymax,zmin:zmax]\n",
        "\n",
        "            mask = cp.ones(sub_exprf.shape, dtype=bool)\n",
        "            mask[length, length, length] = False\n",
        "\n",
        "            save_sub_exprf[idx] = sub_exprf[mask].flatten()  # Store the data in the buffer\n",
        "            idx += 1\n",
        "\n",
        "            if idx >= buffer_size:\n",
        "                print(idx, f'time = {t0 - time.time()}')\n",
        "                t0 = time.time()\n",
        "                timenow = datetime.now().strftime(\"%d%H%M%S\")\n",
        "\n",
        "                cp.save(f'sub_exprfs_{buffer_size}_l_{length}_k_{k_power}_{timenow}.npy', save_sub_exprf)\n",
        "\n",
        "                save_sub_exprf = cp.zeros((buffer_size, (2 * length + 1) ** 3 - 1))  # Preallocate buffer\n",
        "                idx = 0  # Reset the buffer index\n",
        "\n",
        "            # del sub_exprf\n",
        "\n",
        "    del exprf\n"
      ],
      "metadata": {
        "colab": {
          "base_uri": "https://localhost:8080/",
          "height": 332
        },
        "id": "uI8EXvdqEBoS",
        "outputId": "5cb915b5-563d-46dc-8944-e797f5fd9117"
      },
      "execution_count": null,
      "outputs": [
        {
          "output_type": "stream",
          "name": "stdout",
          "text": [
            "2 time = -14.909362554550171\n",
            "2 time = -20.854249477386475\n",
            "2 time = -4.9852118492126465\n",
            "2 time = -43.92603063583374\n",
            "2 time = -28.094149112701416\n",
            "2 time = -4.051478147506714\n"
          ]
        },
        {
          "output_type": "error",
          "ename": "KeyboardInterrupt",
          "evalue": "",
          "traceback": [
            "\u001b[0;31m---------------------------------------------------------------------------\u001b[0m",
            "\u001b[0;31mKeyboardInterrupt\u001b[0m                         Traceback (most recent call last)",
            "\u001b[0;32m<ipython-input-4-703e1db8a225>\u001b[0m in \u001b[0;36m<cell line: 11>\u001b[0;34m()\u001b[0m\n\u001b[1;32m     17\u001b[0m     \u001b[0;32mdel\u001b[0m \u001b[0mgrf\u001b[0m\u001b[0;34m\u001b[0m\u001b[0;34m\u001b[0m\u001b[0m\n\u001b[1;32m     18\u001b[0m \u001b[0;34m\u001b[0m\u001b[0m\n\u001b[0;32m---> 19\u001b[0;31m     \u001b[0;32mif\u001b[0m \u001b[0mcp\u001b[0m\u001b[0;34m.\u001b[0m\u001b[0mmax\u001b[0m\u001b[0;34m(\u001b[0m\u001b[0mexprf\u001b[0m\u001b[0;34m)\u001b[0m  \u001b[0;34m>=\u001b[0m \u001b[0mthreshold\u001b[0m\u001b[0;34m:\u001b[0m\u001b[0;34m\u001b[0m\u001b[0;34m\u001b[0m\u001b[0m\n\u001b[0m\u001b[1;32m     20\u001b[0m \u001b[0;34m\u001b[0m\u001b[0m\n\u001b[1;32m     21\u001b[0m         \u001b[0mmax_pos\u001b[0m \u001b[0;34m=\u001b[0m \u001b[0mcp\u001b[0m\u001b[0;34m.\u001b[0m\u001b[0munravel_index\u001b[0m\u001b[0;34m(\u001b[0m\u001b[0mcp\u001b[0m\u001b[0;34m.\u001b[0m\u001b[0margmax\u001b[0m\u001b[0;34m(\u001b[0m\u001b[0mexprf\u001b[0m\u001b[0;34m)\u001b[0m\u001b[0;34m,\u001b[0m\u001b[0;34m(\u001b[0m\u001b[0mpixel\u001b[0m\u001b[0;34m,\u001b[0m\u001b[0mpixel\u001b[0m\u001b[0;34m,\u001b[0m\u001b[0mpixel\u001b[0m\u001b[0;34m)\u001b[0m\u001b[0;34m)\u001b[0m\u001b[0;34m\u001b[0m\u001b[0;34m\u001b[0m\u001b[0m\n",
            "\u001b[0;31mKeyboardInterrupt\u001b[0m: "
          ]
        }
      ]
    },
    {
      "cell_type": "code",
      "source": [
        "# @title Simulations\n",
        "\n",
        "# index\n",
        "idx =0\n",
        "\n",
        "t0 = time.time()\n",
        "\n",
        "# Initialize an instance of RFSIM\n",
        "rfsim = GPU_RFSIM(mean=0, std_dev=1, pixel=pixel, z_pixel=z_pixel, amplitude=1.0, k_power=k_power, lamb=1.0)\n",
        "\n",
        "# Generate a Gaussian random field\n",
        "grf = rfsim.grf_64f()  # grf can be _32f or _64f\n",
        "\n",
        "##grf = rfsim.grf_64f_pk()  # grf can be _32f or _64f\n",
        "exprf = rfsim.gaussian_to_exp(grf)\n",
        "del grf\n",
        "\n",
        "\n",
        "max_pos = cp.unravel_index(cp.argmax(exprf),(pixel,pixel,pixel))\n",
        "\n",
        "xmin = max_pos[0] -length\n",
        "xmax = max_pos[0] +length +1\n",
        "ymin = max_pos[1] -length\n",
        "ymax = max_pos[1] +length +1\n",
        "zmin = max_pos[2] -length\n",
        "zmax = max_pos[2] +length +1\n",
        "\n",
        "if xmax < pixel and ymax < pixel and zmax < pixel and xmin > 0 and ymin > 0 and zmin > 0 :\n",
        "    sub_exprf = exprf[xmin:xmax,ymin:ymax,zmin:zmax]\n",
        "\n",
        "\n",
        "    mask = cp.ones(sub_exprf.shape, dtype=bool)\n",
        "    mask[length, length, length] = False\n",
        "    # Remove the center value, which is the maximum\n",
        "\n",
        "    # Extract the sub_exprf excluding the maximum value\n",
        "    sub_exprf = sub_exprf[mask].flatten()\n",
        "\n"
      ],
      "metadata": {
        "colab": {
          "base_uri": "https://localhost:8080/"
        },
        "id": "GRyXcauu4H3z",
        "outputId": "22f54085-7fd5-4e27-a96b-7c080bd3150e"
      },
      "execution_count": null,
      "outputs": [
        {
          "output_type": "stream",
          "name": "stdout",
          "text": [
            "16.760744888125483\n",
            "(33, 33, 33)\n",
            "16.629328908241657\n",
            "(35936,)\n"
          ]
        }
      ]
    },
    {
      "cell_type": "code",
      "source": [
        "33*33*33-1"
      ],
      "metadata": {
        "colab": {
          "base_uri": "https://localhost:8080/"
        },
        "id": "k-mEuVSx9RVX",
        "outputId": "6e732ed5-2646-48f4-e5b8-51d9f6a62d7b"
      },
      "execution_count": null,
      "outputs": [
        {
          "output_type": "execute_result",
          "data": {
            "text/plain": [
              "35936"
            ]
          },
          "metadata": {},
          "execution_count": 39
        }
      ]
    },
    {
      "cell_type": "code",
      "source": [
        "max_index = cp.unravel_index(cp.argmax(sub_exprf), sub_exprf.shape)"
      ],
      "metadata": {
        "id": "loaSsyZj7t5g"
      },
      "execution_count": null,
      "outputs": []
    },
    {
      "cell_type": "code",
      "source": [
        "print(sub_exprf[length, length, length], sub_exprf.max())\n"
      ],
      "metadata": {
        "colab": {
          "base_uri": "https://localhost:8080/"
        },
        "id": "aLpa1pvX732V",
        "outputId": "50ad3f3e-02f5-4ec9-c729-56b0daafc45d"
      },
      "execution_count": null,
      "outputs": [
        {
          "output_type": "stream",
          "name": "stdout",
          "text": [
            "18.466044258727354 18.466044258727354\n"
          ]
        }
      ]
    },
    {
      "cell_type": "code",
      "source": [
        "length/2"
      ],
      "metadata": {
        "colab": {
          "base_uri": "https://localhost:8080/"
        },
        "id": "RhB3rR0n8A8_",
        "outputId": "dbf5cd06-da21-48b3-aedb-33946ec44901"
      },
      "execution_count": null,
      "outputs": [
        {
          "output_type": "execute_result",
          "data": {
            "text/plain": [
              "8.0"
            ]
          },
          "metadata": {},
          "execution_count": 34
        }
      ]
    },
    {
      "cell_type": "code",
      "source": [
        "ss_exprf = cp.delete(sub_exprf, cp.argmax(sub_exprf) )\n",
        "\n"
      ],
      "metadata": {
        "colab": {
          "base_uri": "https://localhost:8080/",
          "height": 245
        },
        "id": "U3pvMhTH4TTk",
        "outputId": "2d80631d-10f9-4fa9-b504-ba3093efcdb6"
      },
      "execution_count": null,
      "outputs": [
        {
          "output_type": "error",
          "ename": "AttributeError",
          "evalue": "module 'cupy' has no attribute 'delete'",
          "traceback": [
            "\u001b[0;31m---------------------------------------------------------------------------\u001b[0m",
            "\u001b[0;31mAttributeError\u001b[0m                            Traceback (most recent call last)",
            "\u001b[0;32m<ipython-input-24-7c4a7680e532>\u001b[0m in \u001b[0;36m<cell line: 1>\u001b[0;34m()\u001b[0m\n\u001b[0;32m----> 1\u001b[0;31m \u001b[0mss_exprf\u001b[0m \u001b[0;34m=\u001b[0m \u001b[0mcp\u001b[0m\u001b[0;34m.\u001b[0m\u001b[0mdelete\u001b[0m\u001b[0;34m(\u001b[0m\u001b[0msub_exprf\u001b[0m\u001b[0;34m,\u001b[0m \u001b[0mcp\u001b[0m\u001b[0;34m.\u001b[0m\u001b[0margmax\u001b[0m\u001b[0;34m(\u001b[0m\u001b[0msub_exprf\u001b[0m\u001b[0;34m)\u001b[0m \u001b[0;34m)\u001b[0m\u001b[0;34m\u001b[0m\u001b[0;34m\u001b[0m\u001b[0m\n\u001b[0m\u001b[1;32m      2\u001b[0m \u001b[0;34m\u001b[0m\u001b[0m\n",
            "\u001b[0;32m/usr/local/lib/python3.10/dist-packages/cupy/__init__.py\u001b[0m in \u001b[0;36m__getattr__\u001b[0;34m(name)\u001b[0m\n\u001b[1;32m    919\u001b[0m         \u001b[0;32mreturn\u001b[0m \u001b[0mgetattr\u001b[0m\u001b[0;34m(\u001b[0m\u001b[0m_numpy\u001b[0m\u001b[0;34m,\u001b[0m \u001b[0mname\u001b[0m\u001b[0;34m)\u001b[0m\u001b[0;34m\u001b[0m\u001b[0;34m\u001b[0m\u001b[0m\n\u001b[1;32m    920\u001b[0m \u001b[0;34m\u001b[0m\u001b[0m\n\u001b[0;32m--> 921\u001b[0;31m     \u001b[0;32mraise\u001b[0m \u001b[0mAttributeError\u001b[0m\u001b[0;34m(\u001b[0m\u001b[0;34mf\"module 'cupy' has no attribute {name!r}\"\u001b[0m\u001b[0;34m)\u001b[0m\u001b[0;34m\u001b[0m\u001b[0;34m\u001b[0m\u001b[0m\n\u001b[0m",
            "\u001b[0;31mAttributeError\u001b[0m: module 'cupy' has no attribute 'delete'"
          ]
        }
      ]
    },
    {
      "cell_type": "code",
      "source": [
        "print(ssexp.shape)\n",
        "ssexp"
      ],
      "metadata": {
        "colab": {
          "base_uri": "https://localhost:8080/"
        },
        "id": "kyjTg0m44Y46",
        "outputId": "4e1f9d9f-f6cb-4468-a889-5c87866e48a8"
      },
      "execution_count": null,
      "outputs": [
        {
          "output_type": "stream",
          "name": "stdout",
          "text": [
            "(35937,)\n"
          ]
        },
        {
          "output_type": "execute_result",
          "data": {
            "text/plain": [
              "array([-17.80034362, -16.69378   , -17.27075853, ..., -16.64763198,\n",
              "       -16.84093484, -18.06030974])"
            ]
          },
          "metadata": {},
          "execution_count": 15
        }
      ]
    },
    {
      "cell_type": "code",
      "source": [
        "import glob\n",
        "npy_list= glob.glob('*.npy')"
      ],
      "metadata": {
        "id": "a3GwUTfSG4Bj"
      },
      "execution_count": null,
      "outputs": []
    },
    {
      "cell_type": "code",
      "source": [
        "npy_list"
      ],
      "metadata": {
        "colab": {
          "base_uri": "https://localhost:8080/"
        },
        "id": "3c-HhRpqIBbh",
        "outputId": "000475d4-5c01-4706-dcda-07c864f1e315"
      },
      "execution_count": null,
      "outputs": [
        {
          "output_type": "execute_result",
          "data": {
            "text/plain": [
              "['sub_exprfs_2_l_16_k_3_08115146.npy',\n",
              " 'sub_exprfs_2_l_16_k_3_08115151.npy',\n",
              " 'sub_exprfs_2_l_16_k_3_08115303.npy',\n",
              " 'sub_exprfs_2_l_16_k_3_08115235.npy',\n",
              " 'sub_exprfs_2_l_16_k_3_08115125.npy',\n",
              " 'sub_exprfs_2_l_16_k_3_08115307.npy']"
            ]
          },
          "metadata": {},
          "execution_count": 6
        }
      ]
    },
    {
      "cell_type": "code",
      "source": [
        "\n",
        "alld=[]\n",
        "for npys in npy_list:\n",
        "    sas=np.load(npys)\n",
        "    print(sas.shape)\n",
        "\n",
        "    print(np.any(sas==0), np.any(np.isnan(sas)) )\n",
        "    dsd = np.concatenate(sas)\n",
        "\n",
        "    alld.append(dsd)\n",
        "\n",
        "plt.hist(dsd,bins= 301, density=True);\n",
        "plt.xlim(0,25)\n",
        "plt.yscale('log')\n",
        "# sas1=np.load('sub_exprfs_10_l_16_k_3_07140145.npy')"
      ],
      "metadata": {
        "colab": {
          "base_uri": "https://localhost:8080/",
          "height": 638
        },
        "id": "eyOwmT9uHiic",
        "outputId": "3dd2caaf-718f-43b6-dd89-4b51a5786741"
      },
      "execution_count": null,
      "outputs": [
        {
          "output_type": "stream",
          "name": "stdout",
          "text": [
            "(2, 35936)\n",
            "False False\n",
            "(2, 35936)\n",
            "False False\n",
            "(2, 35936)\n",
            "False False\n",
            "(2, 35936)\n",
            "False False\n",
            "(2, 35936)\n",
            "False False\n",
            "(2, 35936)\n",
            "False False\n"
          ]
        },
        {
          "output_type": "display_data",
          "data": {
            "text/plain": [
              "<Figure size 640x480 with 1 Axes>"
            ],
            "image/png": "[encoded data removed]"
          },
          "metadata": {}
        }
      ]
    },
    {
      "cell_type": "code",
      "source": [],
      "metadata": {
        "id": "4Ns5DID4Tgl-"
      },
      "execution_count": null,
      "outputs": []
    },
    {
      "cell_type": "code",
      "source": [],
      "metadata": {
        "id": "NAxxIHiFTgY_"
      },
      "execution_count": null,
      "outputs": []
    },
    {
      "cell_type": "code",
      "source": [
        "print(sas.shape)\n",
        "\n",
        "print(np.any(sas==0), np.any(np.isnan(sas)) )"
      ],
      "metadata": {
        "colab": {
          "base_uri": "https://localhost:8080/"
        },
        "id": "kklNdgttIC7S",
        "outputId": "3e4fb916-91f7-4029-ae57-a3cf20881c3d"
      },
      "execution_count": null,
      "outputs": [
        {
          "output_type": "stream",
          "name": "stdout",
          "text": [
            "(10, 35937)\n",
            "False False\n"
          ]
        }
      ]
    },
    {
      "cell_type": "code",
      "source": [
        "dsd = np.concatenate(sas)"
      ],
      "metadata": {
        "id": "q35ZC1crIGHD"
      },
      "execution_count": null,
      "outputs": []
    },
    {
      "cell_type": "code",
      "source": [
        "plt.hist(dsd,bins= 301, density=True);\n",
        "plt.xlim(0,25)\n",
        "plt.yscale('log')"
      ],
      "metadata": {
        "colab": {
          "base_uri": "https://localhost:8080/",
          "height": 430
        },
        "id": "JR8qscx5N6VI",
        "outputId": "cd1807c4-c864-44b8-cbe6-aa1295a3b8b5"
      },
      "execution_count": null,
      "outputs": [
        {
          "output_type": "display_data",
          "data": {
            "text/plain": [
              "<Figure size 640x480 with 1 Axes>"
            ],
            "image/png": "[encoded data removed]"
          },
          "metadata": {}
        }
      ]
    },
    {
      "cell_type": "code",
      "source": [],
      "metadata": {
        "colab": {
          "base_uri": "https://localhost:8080/"
        },
        "id": "mqJZCa24N-gb",
        "outputId": "c24bb2c1-a987-499f-9e86-3fea80b87281"
      },
      "execution_count": null,
      "outputs": [
        {
          "output_type": "execute_result",
          "data": {
            "text/plain": [
              "array([[0.89885966, 3.06948954, 3.37551466, ..., 1.69266515, 1.3187044 ,\n",
              "        3.50058601],\n",
              "       [2.54429291, 8.90484194, 1.71031953, ..., 0.79207912, 0.63852435,\n",
              "        1.69815059],\n",
              "       [0.11596069, 0.4586646 , 1.97564879, ..., 0.19318393, 0.48947568,\n",
              "        0.24754315],\n",
              "       ...,\n",
              "       [5.65174561, 3.06653097, 0.34403996, ..., 4.63213813, 0.09384742,\n",
              "        1.83136866],\n",
              "       [0.43837145, 2.18301812, 1.81608961, ..., 2.64784722, 0.85825901,\n",
              "        0.41225601],\n",
              "       [0.52249867, 0.32714801, 1.32513942, ..., 0.99985054, 0.12884797,\n",
              "        0.51260744]])"
            ]
          },
          "metadata": {},
          "execution_count": 17
        }
      ]
    },
    {
      "cell_type": "code",
      "source": [],
      "metadata": {
        "id": "qaa97du5OAZp"
      },
      "execution_count": null,
      "outputs": []
    }
  ]
}