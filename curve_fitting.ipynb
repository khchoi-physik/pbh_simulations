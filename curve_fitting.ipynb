{
  "nbformat": 4,
  "nbformat_minor": 0,
  "metadata": {
    "colab": {
      "provenance": [],
      "authorship_tag": "ABX9TyMedYs3SoQWdfkP5mWi5Ycp",
      "include_colab_link": true
    },
    "kernelspec": {
      "name": "python3",
      "display_name": "Python 3"
    },
    "language_info": {
      "name": "python"
    }
  },
  "cells": [
    {
      "cell_type": "markdown",
      "metadata": {
        "id": "view-in-github",
        "colab_type": "text"
      },
      "source": [
        "<a href=\"https://colab.research.google.com/github/khchoi-physik/pbh_simulations/blob/main/curve_fitting.ipynb\" target=\"_parent\"><img src=\"https://colab.research.google.com/assets/colab-badge.svg\" alt=\"Open In Colab\"/></a>"
      ]
    },
    {
      "cell_type": "code",
      "execution_count": 1,
      "metadata": {
        "id": "l5F3V6inEUkl"
      },
      "outputs": [],
      "source": [
        "import numpy as np\n",
        "import matplotlib.pyplot as plt\n",
        "import scipy.stats as stats\n",
        "import scipy as sp\n",
        "\n",
        "import os\n",
        "import glob"
      ]
    },
    {
      "cell_type": "code",
      "source": [
        "\n",
        "# @title Fitting distributions\n",
        "\n",
        "def gumbel(x,mu,beta):\n",
        "    z  = (x-mu)/beta\n",
        "    return beta**(-1) * np.exp( -( z+ np.exp(-z) ) )\n",
        "\n",
        "\n",
        "def frechet(x,a,s,m):\n",
        "\n",
        "    return (a/s) * ( (x-m) / s)**(-1-a) * np.exp(- ( (x-m) / s)**(-a) )\n",
        "\n",
        "\n",
        "def weibull(x,lam,k):\n",
        "\n",
        "    return (k/lam)*(x/lam)**(k-1) * np.exp(-(x/lam)**k)\n",
        "\n",
        "\n",
        "def gamma_dist(x,alpha,beta):\n",
        "\n",
        "    gamma_pdf = ( (beta**alpha) / gamma(alpha) ) * (x**(alpha-1) ) * np.exp(- beta * x)\n",
        "\n",
        "    return gamma_pdf\n",
        "\n",
        "def exGPD(x, mu, sigma, zeta):\n",
        "\n",
        "    y = (x-mu)\n",
        "    exGPD_pdf = (np.exp(y)/sigma) * ( 1 + (zeta/sigma) * np.exp(y) )**(-1/zeta -1)\n",
        "    #exGPD_pdf = (1/sigma) * ( 1 + zeta * y)**(-1/zeta -1)\n",
        "\n",
        "    return exGPD_pdf"
      ],
      "metadata": {
        "id": "Gb-vBcDXHWI4"
      },
      "execution_count": 60,
      "outputs": []
    },
    {
      "cell_type": "code",
      "source": [
        "# @title Load gdrive\n",
        "\n",
        "from google.colab import drive\n",
        "drive.mount('/content/gdrive')\n",
        "\n",
        "main_path = '/content/gdrive/MyDrive/2023 RFSimulations/simulated_results'\n",
        "folder_path = main_path + '/block_maxima_data'\n",
        "gumbel_path = folder_path +'/gumbel'\n",
        "frechet_path = folder_path +'/frechet'\n",
        "os.chdir(folder_path)\n",
        "print(os.getcwd())"
      ],
      "metadata": {
        "colab": {
          "base_uri": "https://localhost:8080/"
        },
        "id": "_-PVrwWaEvEG",
        "outputId": "d2c035ee-072d-49da-e388-56aca542c5bd"
      },
      "execution_count": 3,
      "outputs": [
        {
          "output_type": "stream",
          "name": "stdout",
          "text": [
            "Mounted at /content/gdrive\n",
            "/content/gdrive/MyDrive/2023 RFSimulations/simulated_results/block_maxima_data\n"
          ]
        }
      ]
    },
    {
      "cell_type": "code",
      "source": [
        "# @title Presets\n",
        "\n",
        "box_sizes = [5,9,10,16,32]\n",
        "xmin =0\n",
        "xmax = 35\n",
        "bins_sizes = 501\n",
        "xrange = np.linspace(xmin,xmax,bins_sizes)\n",
        "colors = ['red', 'blue', 'green', 'black', 'yellow', 'purple', 'orange']"
      ],
      "metadata": {
        "id": "cP7ZRDLHUmz5"
      },
      "execution_count": 4,
      "outputs": []
    },
    {
      "cell_type": "code",
      "source": [
        "# @title Gumbel\n",
        "\n",
        "\n",
        "for l in box_sizes:\n",
        "    npy_list = glob.glob(f'max_ampligude_l_{l}*.npy')\n",
        "    print(npy_list)\n",
        "\n",
        "\n",
        "    fig1, ax1 = plt.subplots(figsize= (12,6))\n",
        "    fig2, ax2 = plt.subplots(figsize= (12,6))\n",
        "    fig3, ax3 = plt.subplots(figsize= (12,6))\n",
        "\n",
        "\n",
        "\n",
        "    for i,npy_file in enumerate(npy_list):\n",
        "        data = np.load(f'{npy_file}')\n",
        "\n",
        "        hists, bins = np.histogram(data, density =True, bins= bins_sizes)\n",
        "        params  = sp.optimize.curve_fit(gumbel, bins[1:], hists)\n",
        "\n",
        "\n",
        "\n",
        "        ax1.plot(bins[1:], hists, c=colors[i% len(colors)], alpha=0.5 , label=npy_file)\n",
        "        ax2.plot(xrange, gumbel(xrange, *params[0]), c=colors[i% len(colors)], alpha=0.5, label=f'Data {npy_file}')#\n",
        "\n",
        "        ax3.plot(bins[1:], hists, c=colors[i% len(colors)], alpha=0.5 , label=f'Data {npy_file}')\n",
        "        ax3.plot(xrange, gumbel(xrange, *params[0]), c=colors[i% len(colors)], alpha=0.5, label=f'Fit {npy_file}', linestyle=':')#\n",
        "\n",
        "\n",
        "        fig4, ax4 = plt.subplots(figsize= (12,6))\n",
        "        ax4.plot(bins[1:], hists, c=colors[i% len(colors)], alpha=0.5 , label=f'Data {npy_file}')\n",
        "        ax4.plot(xrange, gumbel(xrange, *params[0]), c=colors[i% len(colors)], alpha=0.5, label=f'Fit {npy_file}', linestyle=':')#\n",
        "        ax4.legend(fontsize= 12)\n",
        "        ax4.tick_params(axis='both', which='major', labelsize= 12)\n",
        "        ax4.set_xlabel('Amplitude', fontsize= 18)\n",
        "        ax4.set_ylabel('Probability density', fontsize= 18)\n",
        "        ax4.set_title(f'{npy_file}', fontsize= 18)\n",
        "        ax4.set_xlim(xmin,xmax)\n",
        "\n",
        "        fig4.savefig(f'Fitted_gumbel_{npy_file}.png')\n",
        "\n",
        "    ax1.legend(fontsize= 12)\n",
        "    ax2.legend(fontsize= 12)\n",
        "    ax3.legend(fontsize= 12)\n",
        "\n",
        "    ax1.set_title('Data', fontsize= 18)\n",
        "    ax2.set_title('Fitted gumbel', fontsize= 18)\n",
        "    ax3.set_title('Data+Fitted gumbel', fontsize= 18)\n",
        "\n",
        "    ax1.set_xlabel('Amplitude', fontsize= 18)\n",
        "    ax2.set_xlabel('Amplitude', fontsize= 18)\n",
        "    ax3.set_xlabel('Amplitude', fontsize= 18)\n",
        "\n",
        "    ax1.set_ylabel('Probability density', fontsize= 18)\n",
        "    ax2.set_ylabel('Probability density', fontsize= 18)\n",
        "    ax3.set_ylabel('Probability density', fontsize= 18)\n",
        "\n",
        "    ax1.tick_params(axis='both', which='major', labelsize= 12)\n",
        "    ax2.tick_params(axis='both', which='major', labelsize= 12)\n",
        "    ax3.tick_params(axis='both', which='major', labelsize= 12)\n",
        "\n",
        "    ax1.set_xlim(xmin,xmax)\n",
        "    ax2.set_xlim(xmin,xmax)\n",
        "    ax3.set_xlim(xmin,xmax)\n",
        "\n",
        "    fig1.savefig(f'Data_l_{l}.png')\n",
        "    fig2.savefig(f'Fitted_gumbel_l_{l}.png')\n",
        "    fig3.savefig(f'Data_Fitted_gumbel_l_{l}.png')\n",
        "    plt.tight_layout()\n",
        "    plt.close('all')"
      ],
      "metadata": {
        "colab": {
          "base_uri": "https://localhost:8080/"
        },
        "id": "4ZONVCfYFkgK",
        "outputId": "8e8ab85b-46ec-4867-a081-11db22423408"
      },
      "execution_count": null,
      "outputs": [
        {
          "output_type": "stream",
          "name": "stdout",
          "text": [
            "['max_ampligude_l_5_k_2.npy', 'max_ampligude_l_5_k_3.npy', 'max_ampligude_l_5_k_0.npy', 'max_ampligude_l_5_k_1.npy']\n",
            "['max_ampligude_l_9_k_2.npy', 'max_ampligude_l_9_k_3.npy', 'max_ampligude_l_9_k_0.npy', 'max_ampligude_l_9_k_1.npy']\n",
            "['max_ampligude_l_10_k_0.npy', 'max_ampligude_l_10_k_1.npy', 'max_ampligude_l_10_k_2.npy', 'max_ampligude_l_10_k_3.npy']\n",
            "['max_ampligude_l_16_k_3.npy', 'max_ampligude_l_16_k_2.npy', 'max_ampligude_l_16_k_1.npy', 'max_ampligude_l_16_k_0.npy']\n",
            "['max_ampligude_l_32_k_1.npy', 'max_ampligude_l_32_k_0.npy', 'max_ampligude_l_32_k_3.npy', 'max_ampligude_l_32_k_2.npy']\n"
          ]
        }
      ]
    },
    {
      "cell_type": "code",
      "source": [
        "# @title Gumbel with different spectral index\n",
        "\n",
        "k_power_list = [0,1,2,3]\n",
        "\n",
        "def sort_key(filename):\n",
        "    # Split by underscores and take the part after 'l_'\n",
        "    return int(filename.split('_')[3])\n",
        "\n",
        "for k_power in k_power_list:\n",
        "    npy_list_unordered = glob.glob(f'max_ampligude_*_k_{k_power}*.npy')\n",
        "    npy_list = sorted(npy_list_unordered, key= sort_key )\n",
        "\n",
        "    print(npy_list)\n",
        "\n",
        "    fig1, ax1 = plt.subplots(figsize= (12,6))\n",
        "    fig2, ax2 = plt.subplots(figsize= (12,6))\n",
        "    fig3, ax3 = plt.subplots(figsize= (12,6))\n",
        "\n",
        "\n",
        "    for i,npy_file in enumerate(npy_list):\n",
        "        data = np.load(f'{npy_file}')\n",
        "\n",
        "        hists, bins = np.histogram(data, density =True, bins= bins_sizes)\n",
        "        params  = sp.optimize.curve_fit(gumbel, bins[1:], hists)\n",
        "\n",
        "\n",
        "        ax1.plot(bins[1:], hists, c=colors[i% len(colors)], alpha=0.5 , label=npy_file)\n",
        "        ax2.plot(xrange, gumbel(xrange, *params[0]), c=colors[i% len(colors)], alpha=0.5, label=f'Data {npy_file}')#\n",
        "\n",
        "        ax3.plot(bins[1:], hists, c=colors[i% len(colors)], alpha=0.5 , label=f'Data {npy_file}')\n",
        "        ax3.plot(xrange, gumbel(xrange, *params[0]), c=colors[i% len(colors)], alpha=0.5, label=f'Fit {npy_file}', linestyle=':')#\n",
        "\n",
        "\n",
        "        fig4, ax4 = plt.subplots(figsize= (12,6))\n",
        "        ax4.plot(bins[1:], hists, c=colors[i% len(colors)], alpha=0.5 , label=f'Data {npy_file}')\n",
        "        ax4.plot(xrange, gumbel(xrange, *params[0]), c=colors[i% len(colors)], alpha=0.5, label=f'Fit {npy_file}', linestyle=':')#\n",
        "        ax4.legend(fontsize= 12)\n",
        "        ax4.tick_params(axis='both', which='major', labelsize= 12)\n",
        "        ax4.set_xlabel('Amplitude', fontsize= 18)\n",
        "        ax4.set_ylabel('Probability density', fontsize= 18)\n",
        "        ax4.set_title(f'{npy_file}', fontsize= 18)\n",
        "        ax4.set_xlim(xmin,xmax)\n",
        "\n",
        "        fig4.savefig(f'Fitted_gumbel_{npy_file}.png')\n",
        "\n",
        "    ax1.legend(fontsize= 12)\n",
        "    ax2.legend(fontsize= 12)\n",
        "    ax3.legend(fontsize= 12)\n",
        "\n",
        "    ax1.set_title('Data', fontsize= 18)\n",
        "    ax2.set_title('Fitted gumbel', fontsize= 18)\n",
        "    ax3.set_title('Data+Fitted gumbel', fontsize= 18)\n",
        "\n",
        "    ax1.set_xlabel('Amplitude', fontsize= 18)\n",
        "    ax2.set_xlabel('Amplitude', fontsize= 18)\n",
        "    ax3.set_xlabel('Amplitude', fontsize= 18)\n",
        "\n",
        "    ax1.set_ylabel('Probability density', fontsize= 18)\n",
        "    ax2.set_ylabel('Probability density', fontsize= 18)\n",
        "    ax3.set_ylabel('Probability density', fontsize= 18)\n",
        "\n",
        "    ax1.tick_params(axis='both', which='major', labelsize= 12)\n",
        "    ax2.tick_params(axis='both', which='major', labelsize= 12)\n",
        "    ax3.tick_params(axis='both', which='major', labelsize= 12)\n",
        "\n",
        "    ax1.set_xlim(xmin,xmax)\n",
        "    ax2.set_xlim(xmin,xmax)\n",
        "    ax3.set_xlim(xmin,xmax)\n",
        "\n",
        "    fig1.savefig(f'Data_k_{k_power}.png')\n",
        "    fig2.savefig(f'Fitted_gumbel_k_{k_power}.png')\n",
        "    fig3.savefig(f'Data_Fitted_gumbel_k_{k_power}.png')\n",
        "    plt.tight_layout()\n",
        "    plt.close('all')"
      ],
      "metadata": {
        "colab": {
          "base_uri": "https://localhost:8080/"
        },
        "id": "CRAi8OwYZyTt",
        "outputId": "8c6fe795-5ec7-4950-fd50-ec8ec9a10313",
        "cellView": "form"
      },
      "execution_count": null,
      "outputs": [
        {
          "output_type": "stream",
          "name": "stdout",
          "text": [
            "['max_ampligude_l_5_k_0.npy', 'max_ampligude_l_9_k_0.npy', 'max_ampligude_l_10_k_0.npy', 'max_ampligude_l_16_k_0.npy', 'max_ampligude_l_32_k_0.npy', 'max_ampligude_l_48_k_0.npy']\n",
            "['max_ampligude_l_3_k_1.npy', 'max_ampligude_l_4_k_1.npy', 'max_ampligude_l_5_k_1.npy', 'max_ampligude_l_9_k_1.npy', 'max_ampligude_l_10_k_1.npy', 'max_ampligude_l_16_k_1.npy', 'max_ampligude_l_32_k_1.npy', 'max_ampligude_l_48_k_1.npy']\n",
            "['max_ampligude_l_4_k_2.npy', 'max_ampligude_l_5_k_2.npy', 'max_ampligude_l_6_k_2.npy', 'max_ampligude_l_7_k_2.npy', 'max_ampligude_l_8_k_2.npy', 'max_ampligude_l_9_k_2.npy', 'max_ampligude_l_10_k_2.npy', 'max_ampligude_l_16_k_2.npy', 'max_ampligude_l_32_k_2.npy']\n",
            "['max_ampligude_l_5_k_3.npy', 'max_ampligude_l_9_k_3.npy', 'max_ampligude_l_10_k_3.npy', 'max_ampligude_l_16_k_3.npy', 'max_ampligude_l_32_k_3.npy', 'max_ampligude_l_48_k_3.npy']\n"
          ]
        }
      ]
    },
    {
      "cell_type": "code",
      "source": [
        ""
      ],
      "metadata": {
        "id": "redAbK57lKgb",
        "outputId": "f30c546d-2877-49c6-ee87-6eb5b714047e",
        "colab": {
          "base_uri": "https://localhost:8080/"
        }
      },
      "execution_count": 6,
      "outputs": [
        {
          "output_type": "stream",
          "name": "stdout",
          "text": [
            "['max_ampligude_l_16_k_3.npy', 'max_ampligude_l_16_k_2.npy', 'max_ampligude_l_16_k_1.npy', 'max_ampligude_l_16_k_0.npy']\n"
          ]
        }
      ]
    },
    {
      "cell_type": "code",
      "source": [
        " # @title Other EVD Fitting ( Weibull & Frechet)\n",
        "\n",
        "l = 16\n",
        "npy_list = glob.glob(f'max_ampligude_l_{l}*.npy')\n",
        "print(npy_list)\n",
        "\n",
        "\n",
        "os.chdir(folder_path)\n",
        "data = np.load(f'max_ampligude_l_16_k_3.npy')\n",
        "os.chdir(frechet_path)\n",
        "\n",
        "hists, bins = np.histogram(data, density =True, bins= bins_sizes)\n",
        "params_frechet = sp.optimize.curve_fit(frechet, bins[1:], hists , p0=[4,9,0]) # fit frechet\n",
        "params_gumbel  = sp.optimize.curve_fit(gumbel, bins[1:], hists) # fit gumbel\n",
        "params_weibull = sp.optimize.curve_fit(weibull, bins[1:], hists) # fit weibull\n",
        "\n",
        "print(params_gumbel, params_frechet, params_weibull)\n",
        "\n",
        "xrange = np.linspace(0,bins[1:].max(), bins[1:].shape[0]) # define xrange by bin size and bin location\n",
        "\n",
        "plt.plot(bins[1:],hists, label='data', alpha=0.75) # plot data\n",
        "\n",
        "plt.plot(xrange, frechet(xrange, *params_frechet[0]), label= 'frechet_fit', alpha=0.5)  # plot frechet\n",
        "plt.plot(xrange, gumbel(xrange, *params_gumbel[0]), label= 'gumbel_fit', alpha=0.5) # plot gumbel\n",
        "plt.plot(xrange, weibull(xrange, *params_weibull[0]), label= 'weibull_fit', alpha=0.5) # plot weibull\n",
        "\n",
        "plt.legend()"
      ],
      "metadata": {
        "id": "NlNxQeHHlNMk",
        "outputId": "26256445-b667-4863-d4b5-db202b3268a5",
        "colab": {
          "base_uri": "https://localhost:8080/",
          "height": 608
        }
      },
      "execution_count": 74,
      "outputs": [
        {
          "output_type": "stream",
          "name": "stdout",
          "text": [
            "[]\n",
            "(array([6.49114343, 2.03821306]), array([[7.61057034e-05, 1.20723490e-05],\n",
            "       [1.20723490e-05, 5.25713545e-05]])) (array([ 26042.61491156,  53080.33533885, -53073.84415397]), array([[ 2.80745478e+11,  5.71893671e+11, -5.71893662e+11],\n",
            "       [ 5.71893671e+11,  1.16497827e+12, -1.16497825e+12],\n",
            "       [-5.71893662e+11, -1.16497825e+12,  1.16497823e+12]])) (array([7.80559125, 3.58422793]), array([[2.17650021e-04, 1.97790594e-05],\n",
            "       [1.97790594e-05, 3.70530807e-04]]))\n"
          ]
        },
        {
          "output_type": "stream",
          "name": "stderr",
          "text": [
            "<ipython-input-60-e49319473253>:15: RuntimeWarning: invalid value encountered in power\n",
            "  return (k/lam)*(x/lam)**(k-1) * np.exp(-(x/lam)**k)\n"
          ]
        },
        {
          "output_type": "execute_result",
          "data": {
            "text/plain": [
              "<matplotlib.legend.Legend at 0x7b80650ed810>"
            ]
          },
          "metadata": {},
          "execution_count": 74
        },
        {
          "output_type": "display_data",
          "data": {
            "text/plain": [
              "<Figure size 640x480 with 1 Axes>"
            ],
            "image/png": "[encoded data removed]"
          },
          "metadata": {}
        }
      ]
    }
  ]
}