{
  "nbformat": 4,
  "nbformat_minor": 0,
  "metadata": {
    "colab": {
      "provenance": [],
      "authorship_tag": "ABX9TyOxTv+B0MDggEbWY5XBmFPR",
      "include_colab_link": true
    },
    "kernelspec": {
      "name": "python3",
      "display_name": "Python 3"
    },
    "language_info": {
      "name": "python"
    }
  },
  "cells": [
    {
      "cell_type": "markdown",
      "metadata": {
        "id": "view-in-github",
        "colab_type": "text"
      },
      "source": [
        "<a href=\"https://colab.research.google.com/github/khchoi-physik/pbh_simulations/blob/main/simple_neighbourhood_search_two_dim.ipynb\" target=\"_parent\"><img src=\"https://colab.research.google.com/assets/colab-badge.svg\" alt=\"Open In Colab\"/></a>"
      ]
    },
    {
      "cell_type": "code",
      "execution_count": 1,
      "metadata": {
        "id": "ZS7hjhzX8OFJ"
      },
      "outputs": [],
      "source": [
        "import numpy as np\n",
        "from scipy.special import erf\n",
        "\n",
        "import matplotlib.pyplot as plt\n",
        "\n",
        "import time\n",
        "import glob\n",
        "import os\n",
        "import gc"
      ]
    },
    {
      "cell_type": "code",
      "source": [
        "# @title Simulations (functions)\n",
        "\n",
        "def grf_2d(mean, std_dev, pixel, amplitude, k_power):\n",
        "    # Generate white noise in-place\n",
        "    white_noise = np.random.normal(mean, std_dev, (pixel, pixel))\n",
        "\n",
        "    # 2D Fast Fourier transform of the white noise\n",
        "    fft_white_noise = np.fft.fft2(white_noise)\n",
        "    del white_noise\n",
        "    gc.collect()\n",
        "\n",
        "    # Generating FFT momentum\n",
        "    kx = np.fft.fftfreq(pixel) * pixel\n",
        "    ky = np.fft.fftfreq(pixel) * pixel\n",
        "\n",
        "    # Generating FFT momentum 2D array\n",
        "    kx_grid, ky_grid = np.meshgrid(kx, ky)\n",
        "    del kx, ky\n",
        "    gc.collect()\n",
        "\n",
        "    # Norm of k\n",
        "    k_norm = np.sqrt(kx_grid**2 + ky_grid**2)\n",
        "    k_norm[0, 0] = np.inf  # Regularize divergence at k=0\n",
        "    del kx_grid, ky_grid\n",
        "    gc.collect()\n",
        "\n",
        "    # Power Spectrum P_k\n",
        "    power_spectrum = amplitude * (((2 * np.pi / pixel) * k_norm) ** (-k_power))\n",
        "    del k_norm  # Free memory\n",
        "    gc.collect()\n",
        "\n",
        "    # Multiply the power spectrum with the transformed white noise to get the realization of the spectrum\n",
        "    fourier_amplitudes_sqrt = np.sqrt(power_spectrum, out=power_spectrum) * fft_white_noise\n",
        "    del power_spectrum, fft_white_noise  # Free memory\n",
        "    gc.collect()\n",
        "\n",
        "    # Perform inverse Fourier transform to obtain the Gaussian random field in the spatial domain\n",
        "    gaussian_random_field = np.fft.ifft2(fourier_amplitudes_sqrt).real\n",
        "    del fourier_amplitudes_sqrt  # Free memory\n",
        "    gc.collect()\n",
        "\n",
        "    return gaussian_random_field\n",
        "\n",
        "\n",
        "def gaussian_to_exp(x, lam):\n",
        "    mu = np.mean(x)\n",
        "    sigma = np.std(x)\n",
        "    xu = 0.5 * (1 + erf((x - mu) / (np.sqrt(2) * sigma)))\n",
        "    return -1/lam  * np.log(1 - xu)\n"
      ],
      "metadata": {
        "id": "yDap3QUp8PEZ",
        "cellView": "form"
      },
      "execution_count": 2,
      "outputs": []
    },
    {
      "cell_type": "code",
      "source": [
        "# @title Mass conversion (functions)\n",
        "\n",
        "\n",
        "\n",
        "def filtering(x,y,pixel):\n",
        "    \"\"\"\n",
        "    Mask for filtering out pixels outside the simulation box.\n",
        "    \"\"\"\n",
        "    mask = (x >= 0) & (x < pixel) & (y >= 0) & (y < pixel)\n",
        "    return x[mask], y[mask]\n",
        "\n",
        "\n",
        "def M(c2, c1, threshold):\n",
        "\n",
        "    \"\"\"\n",
        "    First input : above-threshold overdensity\n",
        "    Second input : above-threshold overdensity\n",
        "\n",
        "\n",
        "\n",
        "    Define\n",
        "    M[delta2, delta1]:=0.0311926 (4.25699 + delta1)^4.59551 delta2^4.12181\n",
        "    If[delta1 <= 0.599,\n",
        "    HeavisideTheta[delta2 - 0.002/(delta1 - 0.6) - 0.6], 1]\n",
        "\n",
        "    delta2 (c2) is the amplitude of the above-threshold overdensity,\n",
        "    delta1 (c1) is the amplitude of an overdensity in one of the\n",
        "    nearest-neighbouring patches.\n",
        "\n",
        "    For each nearest-neighbouring patch add deltaM to the mass\n",
        "    of the \"bare\" above-threshold patch, M[0,delta2],\n",
        "    to get the total mass in units of the horizon mass.\n",
        "\n",
        "    \"\"\"\n",
        "\n",
        "\n",
        "    \"\"\"\n",
        "    linearly re-scale the amplitudes delta1 and delta2 such that\n",
        "    0.6 corresponds to the utilised threshold value (at a given rareness).\n",
        "    \"\"\"\n",
        "\n",
        "    c1 = 0.6 * c1 / threshold\n",
        "    c2 = 0.6 * c2 / threshold\n",
        "\n",
        "\n",
        "    if c1 <= 0.599:\n",
        "        return 0.0311926 * (4.25699 + c1)**4.59551 *  c2**4.12181 * np.heaviside(c2 - 0.002/(c1-0.6) - 0.6, 0)\n",
        "\n",
        "    else:\n",
        "        return 0.0311926 * (4.25699 + c1)**4.59551 *  c2**4.12181\n",
        "\n",
        "\n",
        "def dM(c2, c1, threshold):\n",
        "\n",
        "    \"\"\"\n",
        "    Approximate mass increase for each nearest-neighbouring overdensity.\n",
        "    (Through the \"If\" command, I have set it equal to zero whenever the\n",
        "    threshold is not met.)\n",
        "\n",
        "    deltaM[delta1,delta2]:=If[M[0, delta2] == 0, 0, M[delta1, delta2]-M[0, delta2]]\n",
        "    \"\"\"\n",
        "\n",
        "    mass = M(c2,c1,threshold)\n",
        "\n",
        "    if mass == 0:\n",
        "        return 0\n",
        "    else:\n",
        "        return mass - M(c2,0,threshold)\n",
        "\n",
        "def nn_sum(dM_list, d2_ij, threshold):\n",
        "    \"\"\"\n",
        "    Total mass for a given threshold exceedence in a given cluster\n",
        "    Sum over [k] and the threshold exceedenece\n",
        "    \"\"\"\n",
        "    return np.sum(dM_list) + M(d2_ij, 0, threshold)\n",
        "# print(\"neighborhood = \", np.sum(dM_ijk) , \"bare =\",  M(d2_ij, 0, threshold))\n",
        "\n",
        "\n",
        "def mass_conversion(sub_exprf, threshold, coor_list, nn_list):\n",
        "    mass_list = []\n",
        "\n",
        "    for coor in coor_list:\n",
        "\n",
        "        d2_i = sub_exprf[coor[0], coor[1]]\n",
        "\n",
        "        # Coorindates (x,y) of the merged neighborhood\n",
        "        x, y  = nn_list[f'{coor}'][:,0], nn_list[f'{coor}'][:,1]\n",
        "\n",
        "        pixel = sub_exprf.shape[0]\n",
        "\n",
        "        if any(coord <= 0 or coord >= pixel - 1 for coord in coor):\n",
        "            print(f'found edge case at {coor}, truncating nearest neighbourhood')\n",
        "            x, y = filtering(x, y, pixel)\n",
        "\n",
        "        d1_ij = sub_exprf[x,y]\n",
        "\n",
        "        dM_i = [dM(d1, d2_i, threshold) for d1 in d1_ij]\n",
        "\n",
        "        mass_list.append( nn_sum(dM_i, d2_i, threshold) )\n",
        "\n",
        "\n",
        "    return mass_list\n",
        "\n",
        "\n",
        "def bare_mass_conversion(sub_exprf, threshold, coor_list):\n",
        "\n",
        "    mass_list = []\n",
        "    for coor in coor_list:\n",
        "        d2_i = exprf[coor[0], coor[1] ]\n",
        "\n",
        "    mass_list.append(M(d2_ij, 0, threshold))\n",
        "    if (d2_ij < threshold) and (M(d2_ij, 0, threshold)>0) :\n",
        "        print(\"Identified bare mass gain: \", d2_ij, M(d2_ij, 0, threshold) )\n",
        "\n",
        "\n",
        "    return mass_list"
      ],
      "metadata": {
        "id": "P-pGPMv08Q5R"
      },
      "execution_count": 20,
      "outputs": []
    },
    {
      "cell_type": "code",
      "source": [
        "# @title Nearest neighbours search (functions)\n",
        "\n",
        "\n",
        "def nearest_neighbours(half_length, coor_list):\n",
        "\n",
        "    \"\"\"\n",
        "    Inputs:\n",
        "    - half_length (l) : to calculate the box size of the nearest neighbours = 2l+1\n",
        "    - labels: labels obtained from DBSCAN clustering algorithm\n",
        "    - clt_pos_dict[i][j] : dictionary of threshold exceeding events,\n",
        "    i : integer from [0, n-1], n is the total number of cluster excluding anomoly\n",
        "    j : integer from [0, m-1], m is the total number of threshold exceeding events\n",
        "    within the i-th cluster\n",
        "\n",
        "    Outputs:\n",
        "    - coordinates_nn[i][coor] : dictionary of nearest neighbours of the threshold exceeding events,\n",
        "    i : integer from [0, n-1], n is the total number of cluster excluding anomoly\n",
        "    coor : coordaintes of the threshold exceeding events with the format '[x, y]'\n",
        "    \"\"\"\n",
        "\n",
        "\n",
        "    \"\"\"\n",
        "    Structure of the dictoinary \"coordinates_nn\":\n",
        "    coordinates_nn[i][j] referes to the coordinate of the i-th cluster\n",
        "    and the j-th threshold exceeding events.\n",
        "\n",
        "    i : integer from [0, n-1], n is the total number of cluster excluding anomoly\n",
        "    j : coordaintes of the threshold exceeding events with the format '[x, y]'\n",
        "\n",
        "    \"\"\"\n",
        "\n",
        "    ## box size = 2L+1\n",
        "    l = half_length\n",
        "    # Generate offsets for the 3x3 box exlcuding center\n",
        "    offsets_no_center = np.array( [(i,j) for i in range(-l,l+1) for j in range(-l,l+1) if not (i==0 and j==0)] )\n",
        "\n",
        "    nn_list =  {}\n",
        "\n",
        "    for coor in coor_list:\n",
        "        nn_list[f'{coor}'] =  coor + offsets_no_center\n",
        "\n",
        "    return nn_list\n",
        "\n",
        "\n",
        "def sort_coor_list(exprf, loc):\n",
        "    \"\"\"\n",
        "    Inputs:\n",
        "    - exprf : exponential random field\n",
        "    - labels : labels obtained from DBSCAN clustering algorithm\n",
        "    - clt_pos_dict : dictionary of threshold exceeding events,\n",
        "    - coordinates_nn : dictionary of nearest neighbours of the threshold exceeding events\n",
        "\n",
        "    Outputs:\n",
        "    - coordinates_nn : dictionary of merged nearest neighbours of the threshold exceeding events,\n",
        "    - clt_pos_dict_merged : dictionary of merged threshold exceeding events.\n",
        "    \"\"\"\n",
        "\n",
        "    # Intitialize dictionary for the coordiantes of the threshold exceeding events\n",
        "    coor_list = {}\n",
        "    # Initialize dictinoary for threshold exceeding events after nearest\n",
        "    # neighbourhood clustering algorithm\n",
        "    th_list_merged = {}\n",
        "\n",
        "\n",
        "    \"\"\"\n",
        "    STEP 1:\n",
        "    Re-ordering the coordinates of the threshold exceeding events\n",
        "    from the strongest to the weakest. The anomolys are not included.\n",
        "    \"\"\"\n",
        "\n",
        "    # Construct arrays of the formation [coordinates, amplitude]\n",
        "    coor_list= np.column_stack( (loc[0], loc[1], sub_exprf[loc]) )\n",
        "\n",
        "    coor_list= sorted(coor_list, key=lambda x: x[2], reverse=True)\n",
        "\n",
        "    coor_list= np.array(coor_list)[:,:2].astype(int)\n",
        "\n",
        "    return coor_list\n",
        "\n",
        "def merge_nn(coor_list, nn_list):\n",
        "\n",
        "\n",
        "    \"\"\"\n",
        "    STEP 2: Merging the primary and secondary neighborhoods\n",
        "\n",
        "    Definitions:\n",
        "    - Primary threshold exceedence : The threshold exceedence under consderation.\n",
        "    - Primary neighborhood : The nearest neighbors of the primary threshold exceedence.\n",
        "\n",
        "    - Secondary threshold exceedence : The threshold exceedence that is in the primary neighborhood.\n",
        "    - Secondary neighborhood : The nearest neighbors of the secondary threshold exceedence.\n",
        "\n",
        "    - Threshold exceedence set: The set of all threshold exceedence within the clsuter.\n",
        "    - Intersection set: The set of secondary threshold exceedence. Initialized as empty list.\n",
        "\n",
        "    \"\"\"\n",
        "\n",
        "    new_coor_list = []\n",
        "    th_set = set(map(tuple, coor_list))\n",
        "\n",
        "    for ii in range(len(coor_list)):\n",
        "\n",
        "        coor = coor_list[ii]\n",
        "\n",
        "        if tuple(coor) not in th_set:\n",
        "            continue\n",
        "        else:\n",
        "            new_coor_list.append(coor)\n",
        "            th_set.remove(tuple(coor))\n",
        "\n",
        "        repeat = True\n",
        "        while repeat:\n",
        "\n",
        "            nn_set = set(map(tuple, nn_list[f'{coor}']))\n",
        "\n",
        "            interset = th_set.intersection(nn_set)\n",
        "\n",
        "            th_set -= interset\n",
        "\n",
        "            # Convert the set of intersection into a numpy array\n",
        "            interset = np.array(list(interset)).astype(int)\n",
        "\n",
        "            if len(interset) > 0:\n",
        "\n",
        "                # Merging all the secondary neighborhoods with primary neighborhoods\n",
        "                for int_coor in interset:\n",
        "\n",
        "                    nn_list[f'{coor}'] = np.vstack( ( nn_list[f'{coor}'], nn_list[f'{int_coor}']) )\n",
        "                    # print(f\"Merging neighbourhood {int_coor} with {coor}. # of neighbours = \", len(coordinates_nn[ii][f'{coor}']))\n",
        "                    del nn_list[f'{int_coor}']\n",
        "\n",
        "                    # Discard duplicated neighborhood\n",
        "                    nn_list[f'{coor}'] = np.unique( nn_list[f'{coor}'], axis= 0)\n",
        "\n",
        "                    # Remove `coor` from `nn_list`\n",
        "                    nn_list[f'{coor}'] = nn_list[f'{coor}'][~np.all(nn_list[f'{coor}'] == coor, axis=1)]\n",
        "\n",
        "                    # Repeat to explore consective neighborhood\n",
        "                    repeat = True\n",
        "\n",
        "            else:\n",
        "                repeat = False\n",
        "\n",
        "    return nn_list, new_coor_list"
      ],
      "metadata": {
        "id": "iOvGfFKw-NWU",
        "cellView": "form"
      },
      "execution_count": 4,
      "outputs": []
    },
    {
      "cell_type": "code",
      "source": [
        "# @title Run simulations\n",
        "\n",
        "pixel = 2**11\n",
        "\n",
        "# Threshold for defining rare events\n",
        "threshold = 12\n",
        "sub_threshold = threshold * (0.55527/0.60)\n",
        "\n",
        "n_loops = 10\n",
        "\n",
        "eps = 100\n",
        "min_samples = 30\n",
        "\n",
        "k_power = 2\n",
        "hl  = 1\n"
      ],
      "metadata": {
        "id": "G65CnrFH8TlY"
      },
      "execution_count": 6,
      "outputs": []
    },
    {
      "cell_type": "code",
      "source": [
        "exprf = gaussian_to_exp( grf_2d(mean= 0, std_dev = 1, pixel= pixel, amplitude = 1, k_power=k_power), 1)"
      ],
      "metadata": {
        "id": "3t9xEiV1DM0T"
      },
      "execution_count": 7,
      "outputs": []
    },
    {
      "cell_type": "code",
      "source": [
        "np.max(exprf)\n",
        "\n",
        "loc  = np.where(exprf > threshold)\n"
      ],
      "metadata": {
        "colab": {
          "base_uri": "https://localhost:8080/"
        },
        "id": "YCCk9NfUDOne",
        "outputId": "a561dfff-b3e5-49d6-fdb5-8e5d1f8a21c3"
      },
      "execution_count": 8,
      "outputs": [
        {
          "output_type": "stream",
          "name": "stdout",
          "text": [
            "(array([ 402,  987, 1115, 1116, 1120, 1121, 1121, 1121, 1121, 1122, 1122,\n",
            "       1123, 1123, 1123, 1123, 1124, 1124, 1124, 1124, 1125, 1125, 1142,\n",
            "       1145, 1152, 1152, 1382, 1385, 1385, 1402, 1468, 1488, 1543, 1557,\n",
            "       1557, 1570, 1645, 1646, 1646, 1648, 1651, 1653, 1654, 1655, 1655,\n",
            "       1656, 1657, 1662]), array([1960, 1256,  953,  952,  947,  947,  948,  949,  965,  947,  948,\n",
            "        946,  947,  948,  951,  946,  947,  949,  950,  947,  949,  970,\n",
            "        971,  969, 1424,  405,  406,  407,  404,  888, 1162, 1937,  400,\n",
            "        401,  635,  710,  709,  710,  705,  698,  700,  699,  697,  698,\n",
            "        696,  695,  695]))\n"
          ]
        }
      ]
    },
    {
      "cell_type": "code",
      "source": [
        "max_pos = np.unravel_index(np.argmax(exprf), exprf.shape)\n",
        "print(max_pos)"
      ],
      "metadata": {
        "colab": {
          "base_uri": "https://localhost:8080/"
        },
        "id": "Q05ltN4LDvFi",
        "outputId": "286f19f2-d9ac-4bdf-e7a2-23005c96cc1f"
      },
      "execution_count": 9,
      "outputs": [
        {
          "output_type": "stream",
          "name": "stdout",
          "text": [
            "(1123, 947)\n"
          ]
        }
      ]
    },
    {
      "cell_type": "code",
      "source": [
        "l=16\n",
        "\n",
        "xmin, xmax = max_pos[0] - l , max_pos[0] +l+1\n",
        "ymin, ymax = max_pos[1] - l , max_pos[1] +l+1\n",
        "\n",
        "sub_exprf = exprf[xmin:xmax, ymin:ymax]\n",
        "\n",
        "plt.imshow(sub_exprf, cmap= 'afmhot')\n",
        "plt.legend()\n",
        "plt.clim(11,20)\n",
        "plt.show()"
      ],
      "metadata": {
        "colab": {
          "base_uri": "https://localhost:8080/",
          "height": 448
        },
        "id": "MXONHhN_D3Xq",
        "outputId": "a8bd7e40-c24a-4767-fc00-a9ab2b0057c7"
      },
      "execution_count": 16,
      "outputs": [
        {
          "output_type": "stream",
          "name": "stderr",
          "text": [
            "WARNING:matplotlib.legend:No artists with labels found to put in legend.  Note that artists whose label start with an underscore are ignored when legend() is called with no argument.\n"
          ]
        },
        {
          "output_type": "display_data",
          "data": {
            "text/plain": [
              "<Figure size 640x480 with 1 Axes>"
            ],
            "image/png": "[encoded data removed]"
          },
          "metadata": {}
        }
      ]
    },
    {
      "cell_type": "code",
      "source": [
        "loc = np.where(sub_exprf > threshold)"
      ],
      "metadata": {
        "id": "2SoXq1Atgktl"
      },
      "execution_count": 17,
      "outputs": []
    },
    {
      "cell_type": "code",
      "source": [
        "print(np.array(loc).T)"
      ],
      "metadata": {
        "colab": {
          "base_uri": "https://localhost:8080/"
        },
        "id": "dMtrmySIiWr0",
        "outputId": "0689bc56-cbc4-4c53-ab7a-660b2f0c57c9"
      },
      "execution_count": 18,
      "outputs": [
        {
          "output_type": "stream",
          "name": "stdout",
          "text": [
            "[[ 8 22]\n",
            " [ 9 21]\n",
            " [13 16]\n",
            " [14 16]\n",
            " [14 17]\n",
            " [14 18]\n",
            " [15 16]\n",
            " [15 17]\n",
            " [16 15]\n",
            " [16 16]\n",
            " [16 17]\n",
            " [16 20]\n",
            " [17 15]\n",
            " [17 16]\n",
            " [17 18]\n",
            " [17 19]\n",
            " [18 16]\n",
            " [18 18]]\n"
          ]
        }
      ]
    },
    {
      "cell_type": "code",
      "source": [
        "coor_list = sort_coor_list(exprf, loc)\n",
        "\n",
        "nn_list =  nearest_neighbours(hl, coor_list)\n",
        "\n",
        "merged_nn_list, merged_coor_list = merge_nn(coor_list, nn_list)\n",
        "\n",
        "mass_list = mass_conversion(sub_exprf, threshold, merged_coor_list, merged_nn_list)"
      ],
      "metadata": {
        "id": "SEK2Xmk4Knp1"
      },
      "execution_count": 21,
      "outputs": []
    },
    {
      "cell_type": "code",
      "source": [
        "print(len(merged_nn_list))\n",
        "print(len(merged_nn_list['[16 16]']))\n",
        "# print(nnn_list['[16 16]'].shape)\n",
        "# print(nnn_list['[16 16]'])\n",
        "print(mass_list)"
      ],
      "metadata": {
        "colab": {
          "base_uri": "https://localhost:8080/"
        },
        "id": "cIzocaryKRNv",
        "outputId": "310a1850-1229-401c-91c0-df6bba253cee"
      },
      "execution_count": 24,
      "outputs": [
        {
          "output_type": "stream",
          "name": "stdout",
          "text": [
            "2\n",
            "48\n",
            "[220.6111602732725, 28.325968554468993]\n"
          ]
        }
      ]
    },
    {
      "cell_type": "code",
      "source": [
        "mass_list = []\n",
        "\n",
        "for coor in new_coors:\n",
        "    print(coor, len(nnn_list[f'{coor}']))\n",
        "\n",
        "    d2_i = sub_exprf[coor[0], coor[1]]\n",
        "    print(d2_i)\n",
        "\n",
        "    # Coorindates (x,y) of the merged neighborhood\n",
        "    x, y  = nnn_list[f'{coor}'][:,0], nnn_list[f'{coor}'][:,1]\n",
        "\n",
        "    pixel = sub_exprf.shape[0]\n",
        "\n",
        "    if any(coord <= 0 or coord >= pixel - 1 for coord in coor):\n",
        "        print(f'found edge case at {coor}, truncating nearest neighbourhood')\n",
        "        x, y = filtering(x, y, pixel)\n",
        "\n",
        "    d1_ij = sub_exprf[x,y]\n",
        "\n",
        "    dM_i = [dM(d1, d2_i, threshold) for d1 in d1_ij]\n",
        "\n",
        "    mass_list.append( nn_sum(dM_i, d2_i, threshold) )\n",
        "\n",
        "\n",
        "print(mass_list)"
      ],
      "metadata": {
        "colab": {
          "base_uri": "https://localhost:8080/"
        },
        "id": "0pBdz2uh1CKM",
        "outputId": "d3240681-7144-4121-8086-c32d036bc381"
      },
      "execution_count": 18,
      "outputs": [
        {
          "output_type": "stream",
          "name": "stdout",
          "text": [
            "[16 16] 69\n",
            "15.730711123018471\n",
            "[7 3] 8\n",
            "15.056203930660509\n",
            "[13 10] 25\n",
            "14.692679428242101\n",
            "[15  6] 14\n",
            "14.353414842544984\n",
            "[10 21] 8\n",
            "13.33362196682293\n",
            "[20  6] 11\n",
            "13.118641482648345\n",
            "[ 8 21] 13\n",
            "12.759980460968064\n",
            "[25  8] 8\n",
            "12.144309699448025\n",
            "[24  6] 8\n",
            "12.098004648738158\n",
            "[255.20249984060152, 35.05791538463001, 87.32247929035186, 43.26983510304265, 17.241046495531663, 37.94579519288556, 43.441850081356606, 20.729424603514918, 20.04517652225759]\n"
          ]
        }
      ]
    },
    {
      "cell_type": "code",
      "source": [
        "hc_bare_mass_list = []\n",
        "hc_cluster_mass_list = []\n",
        "\n",
        "sc_bare_mass_list = []\n",
        "sc_cluster_mass_list =[]\n",
        "\n",
        "nn=0\n",
        "while True:\n",
        "    nn+=1\n",
        "    print(nn)\n",
        "\n",
        "    exprf = gaussian_to_exp( grf_2d(mean= 0, std_dev = 1, pixel= pixel, amplitude = 1, k_power=k_power), 1)\n",
        "\n",
        "\n",
        "    pos = np.argwhere(exprf > threshold)\n",
        "    all_pos = np.argwhere(exprf > sub_threshold)\n",
        "    #sub_pos = np.argwhere((exprf > sub_threshold) & (exprf < threshold))\n",
        "    if (pos.shape[0] == 0):\n",
        "        print(\"No threshold exceeding events\")\n",
        "        continue\n",
        "\n",
        "    \"\"\"\n",
        "    WARNING: This code will cause error here when the numpy array pos\n",
        "    is empty. That means that the program is unable to find any\n",
        "    threshold exceeding events. This will be fixed  in the future when\n",
        "    incorperating the loops by the continue command.\n",
        "    \"\"\"\n",
        "\n",
        "    # Run clustering algorithm for hard threshold\n",
        "    hc_labels, hc_clt_pos_dict = DBSCAN_CLUSTERING(data = pos, eps = eps, min_samples = min_samples)\n",
        "    # Run clustering algorithm for soft threshold\n",
        "    sc_labels, sc_clt_pos_dict = DBSCAN_CLUSTERING(data = all_pos, eps = eps, min_samples = min_samples)\n",
        "\n",
        "    # # of clusters soft threshold\n",
        "    sc_num_clt = len(set(sc_labels))\n",
        "    # # of clusters hard threshold\n",
        "    hc_num_clt = len(set(hc_labels))\n",
        "\n",
        "    # # Color scheme defined bby the total # of clusters\n",
        "    # sc_cmap = cm.get_cmap('rainbow', sc_num_clt)\n",
        "    # hc_cmap = cm.get_cmap('rainbow', hc_num_clt)\n",
        "\n",
        "    # Search for primary neighborhood\n",
        "    hc_coordinates_nn = find_nearest_neighbours(half_length = 1, labels = hc_labels, clt_pos_dict = hc_clt_pos_dict)\n",
        "    sc_coordinates_nn = find_nearest_neighbours(half_length = 1, labels = sc_labels, clt_pos_dict = sc_clt_pos_dict)\n",
        "\n",
        "    # Merge the primary and secondary neighborhoods # Note that \"threshold\" must always be the one defining the rare event.\n",
        "    hc_coordinates_nn, hc_clt_pos_dict_merged = merge_nearest_neighbour(exprf = exprf, labels = hc_labels, clt_pos_dict = hc_clt_pos_dict, coordinates_nn = hc_coordinates_nn)\n",
        "    sc_coordinates_nn, sc_clt_pos_dict_merged = merge_nearest_neighbour(exprf = exprf, labels = sc_labels, clt_pos_dict = sc_clt_pos_dict, coordinates_nn = sc_coordinates_nn)\n",
        "\n",
        "    hc_cluster_mass_i , hc_cluster_mass_ij = mass_conversion(exprf = exprf, labels = hc_labels, threshold = threshold, clt_pos_dict_merged = hc_clt_pos_dict_merged, coordinates_nn = hc_coordinates_nn)\n",
        "    sc_cluster_mass_i , sc_cluster_mass_ij = mass_conversion(exprf = exprf, labels = sc_labels, threshold = threshold, clt_pos_dict_merged = sc_clt_pos_dict_merged, coordinates_nn = sc_coordinates_nn)\n",
        "\n",
        "    hc_bare_mass_i, hc_bare_mass_ij = bare_mass_conversion(exprf = exprf, labels = hc_labels, threshold = threshold, clt_pos_dict = hc_clt_pos_dict)\n",
        "    sc_bare_mass_i, sc_bare_mass_ij = bare_mass_conversion(exprf = exprf, labels = sc_labels, threshold = threshold, clt_pos_dict = sc_clt_pos_dict)\n",
        "\n",
        "    for ii in set(sc_labels)-{-1}:\n",
        "        for item in sc_cluster_mass_ij[ii]:\n",
        "            sc_cluster_mass_list.append(item)\n",
        "        for item in sc_bare_mass_ij[ii]:\n",
        "            sc_bare_mass_list.append(item)\n",
        "\n",
        "    for ii in set(hc_labels)-{-1}:\n",
        "        for item in hc_cluster_mass_ij[ii]:\n",
        "            hc_cluster_mass_list.append(item)\n",
        "        for item in hc_bare_mass_ij[ii]:\n",
        "            hc_bare_mass_list.append(item)\n",
        "\n",
        "    if nn%10000 == 0:\n",
        "\n",
        "        timenow = datetime.now().strftime(\"%d%H%M%S\")\n",
        "        np.save(f'hc_cluster_mass_list_{timenow}.npy', hc_cluster_mass_list)\n",
        "        np.save(f'hc_bare_mass_list_{timenow}.npy', hc_bare_mass_list)\n",
        "        np.save(f'sc_cluster_mass_list_{timenow}.npy', sc_cluster_mass_list)\n",
        "        np.save(f'sc_bare_mass_list_{timenow}.npy', sc_bare_mass_list)\n",
        "\n",
        "        hc_cluster_mass_list=[]\n",
        "        hc_bare_mass_list=[]\n",
        "        sc_cluster_mass_list=[]\n",
        "        sc_bare_mass_list=[]\n"
      ],
      "metadata": {
        "id": "90D62VoM8Wxe"
      },
      "execution_count": null,
      "outputs": []
    },
    {
      "cell_type": "code",
      "source": [],
      "metadata": {
        "id": "NVCSnVA98ZNw"
      },
      "execution_count": null,
      "outputs": []
    }
  ]
}