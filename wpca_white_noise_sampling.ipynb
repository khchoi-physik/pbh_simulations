{
  "nbformat": 4,
  "nbformat_minor": 0,
  "metadata": {
    "colab": {
      "provenance": [],
      "authorship_tag": "ABX9TyNiTmfidxDMT7hCs46cjquA",
      "include_colab_link": true
    },
    "kernelspec": {
      "name": "python3",
      "display_name": "Python 3"
    },
    "language_info": {
      "name": "python"
    }
  },
  "cells": [
    {
      "cell_type": "markdown",
      "metadata": {
        "id": "view-in-github",
        "colab_type": "text"
      },
      "source": [
        "<a href=\"https://colab.research.google.com/github/khchoi-physik/pbh_simulations/blob/main/wpca_white_noise_sampling.ipynb\" target=\"_parent\"><img src=\"https://colab.research.google.com/assets/colab-badge.svg\" alt=\"Open In Colab\"/></a>"
      ]
    },
    {
      "cell_type": "code",
      "source": [
        "!pip install wpca"
      ],
      "metadata": {
        "colab": {
          "base_uri": "https://localhost:8080/"
        },
        "id": "0Gumee0mHloX",
        "outputId": "f22abae5-f5e8-44a0-dec5-ecd4ffbe3d76"
      },
      "execution_count": 2,
      "outputs": [
        {
          "output_type": "stream",
          "name": "stdout",
          "text": [
            "Collecting wpca\n",
            "  Downloading wpca-0.1.tar.gz (900 kB)\n",
            "\u001b[2K     \u001b[90m━━━━━━━━━━━━━━━━━━━━━━━━━━━━━━━━━━━━━━━━\u001b[0m \u001b[32m901.0/901.0 kB\u001b[0m \u001b[31m6.5 MB/s\u001b[0m eta \u001b[36m0:00:00\u001b[0m\n",
            "\u001b[?25h  Preparing metadata (setup.py) ... \u001b[?25l\u001b[?25hdone\n",
            "Building wheels for collected packages: wpca\n",
            "  Building wheel for wpca (setup.py) ... \u001b[?25l\u001b[?25hdone\n",
            "  Created wheel for wpca: filename=wpca-0.1-py3-none-any.whl size=11661 sha256=df681691a7e94dbb9101e27dcaa12f52289d8c3efbf891bf8b68bbb4c5371678\n",
            "  Stored in directory: /root/.cache/pip/wheels/e8/ad/cc/747227c4f8a2a1da6ed15643a001308952f59b67c21e299c29\n",
            "Successfully built wpca\n",
            "Installing collected packages: wpca\n",
            "Successfully installed wpca-0.1\n"
          ]
        }
      ]
    },
    {
      "cell_type": "code",
      "source": [
        "# @title Import packages\n",
        "\n",
        "#import cupy as np\n",
        "#from cupyx.scipy.special import erf\n",
        "\n",
        "import numpy as np\n",
        "import matplotlib.pyplot as plt\n",
        "import imageio\n",
        "import gc\n",
        "import os\n",
        "import time\n",
        "from scipy.special import erf\n",
        "\n",
        "from sklearn.decomposition import PCA\n",
        "from wpca import EMPCA, WPCA"
      ],
      "metadata": {
        "id": "aOiPqD14Hnbr"
      },
      "execution_count": 5,
      "outputs": []
    },
    {
      "cell_type": "code",
      "source": [
        "from google.colab import drive\n",
        "drive.mount('/content/gdrive/')\n",
        "folder_path = f'/content/gdrive/MyDrive/2023 RFSimulations/simulated_results/wpca_white_noise'\n",
        "os.chdir(folder_path)"
      ],
      "metadata": {
        "colab": {
          "base_uri": "https://localhost:8080/"
        },
        "id": "fSL_BshqHm7i",
        "outputId": "d6f494d9-8bdf-4633-f62d-3e0012ba4917"
      },
      "execution_count": 6,
      "outputs": [
        {
          "output_type": "stream",
          "name": "stdout",
          "text": [
            "Mounted at /content/gdrive/\n"
          ]
        }
      ]
    },
    {
      "cell_type": "markdown",
      "source": [
        "## CPU White Noise Sampling"
      ],
      "metadata": {
        "id": "QwZFWx5aI9ay"
      }
    },
    {
      "cell_type": "code",
      "source": [
        "def gaussian_to_exp(grf,lamb):\n",
        "    grf_mean = np.mean(grf)\n",
        "    grf_std_dev = np.std(grf)\n",
        "    xu = 0.5 * (1 + erf((grf - grf_mean) / (np.sqrt(2) * grf_std_dev)))\n",
        "\n",
        "    exprf = -1/lamb  * np.log(1 - xu)\n",
        "    return exprf"
      ],
      "metadata": {
        "id": "f1y9K8r2H7gn"
      },
      "execution_count": 7,
      "outputs": []
    },
    {
      "cell_type": "code",
      "execution_count": 8,
      "metadata": {
        "colab": {
          "base_uri": "https://localhost:8080/"
        },
        "id": "OLVqVBQXGyhw",
        "outputId": "8470d5d7-440a-4876-bb4e-4c14fe12cfac"
      },
      "outputs": [
        {
          "output_type": "stream",
          "name": "stdout",
          "text": [
            "Simulation time = 5604\n"
          ]
        }
      ],
      "source": [
        "wpca_vec_list = []\n",
        "wpca_ev_list = []\n",
        "\n",
        "threshold = 0\n",
        "l= 32\n",
        "bl = 2*l +1\n",
        "\n",
        "target = 10000\n",
        "\n",
        "start = time.time()\n",
        "\n",
        "for _ in range(target):\n",
        "\n",
        "    white_noise = np.random.normal(loc=0, scale = 1, size=[bl,bl,bl] ) # sampling guassian white noise\n",
        "    exprf = gaussian_to_exp(white_noise, 1) # convert to exponential white noise\n",
        "\n",
        "    coords = np.where( exprf > threshold) # obtain the coordinates of all points\n",
        "    amps, coords = exprf[coords], np.array(coords).T # obtain the amplitudes for each coordinates (1-1 mapping), and the set of coordinates\n",
        "    amps = amps/np.sum(amps) #Normalized amplitudes\n",
        "    #coord_amp = np.array( [(coord[0],coord[1],coord[2], amp ) for coord, amp in zip(coords, amps)]) #Normalized amplitudes. Threshold = 0, Max Pt. = 1.\n",
        "    weights = np.zeros_like(coords, dtype=np.float64)\n",
        "\n",
        "    for nn in range(amps.shape[0]):\n",
        "        weights[nn] = np.array( [amps[nn], amps[nn], amps[nn]] )\n",
        "    #       weights[nn] = np.array( [coord_amp[nn][3],coord_amp[nn][3],coord_amp[nn][3]])\n",
        "\n",
        "    wpca = WPCA(n_components=3)\n",
        "    wpca.fit(X = coords, weights=weights)\n",
        "\n",
        "    wpca_vec_list.append(wpca.components_)\n",
        "    wpca_ev_list.append(wpca.explained_variance_ratio_)\n",
        "\n",
        "print('Simulation time =', int(time.time()- start))"
      ]
    },
    {
      "cell_type": "code",
      "source": [
        "# @title Save results\n",
        "\n",
        "working_directory=  f'/content/gdrive/MyDrive/2023 RFSimulations/simulated_results/wpca_white_noise/l_{l}'\n",
        "\n",
        "if not os.path.exists(working_directory):\n",
        "    os.makedirs(working_directory)\n",
        "    print(f\"Directory created for l={l}\")\n",
        "\n",
        "os.chdir(working_directory)\n",
        "os.getcwd()\n",
        "\n",
        "import random\n",
        "id = random.randint(0,65535)\n",
        "\n",
        "np.save(f'wpca_white_noise_id_{id}_l_{l}_vec.npy', wpca_vec_list)\n",
        "np.save(f'wpca_white_noise_id_{id}_l_{l}_ev.npy', wpca_ev_list)"
      ],
      "metadata": {
        "id": "SH1s0mxwTb1E"
      },
      "execution_count": 9,
      "outputs": []
    },
    {
      "cell_type": "markdown",
      "source": [
        "## Plots"
      ],
      "metadata": {
        "id": "UnBpAJWpTSKV"
      }
    },
    {
      "cell_type": "code",
      "source": [
        "#vec = np.load(f'wpca_vec_white_noise_id_{id}_l_{l}.npy')\n",
        "#ev = np.load(f'wpca_ev_white_noise_id_{id}_l_{l}.npy')\n",
        "\n",
        "plt_a13_list = []\n",
        "plt_a32_list = []\n",
        "\n",
        "for mm in range(len(wpca_ev_list)):\n",
        "    plt_a13_list.append(wpca_ev_list[mm][0]/wpca_ev_list[mm][2])\n",
        "    plt_a32_list.append(wpca_ev_list[mm][2]/wpca_ev_list[mm][1])\n",
        "\n",
        "\n",
        "plt.hist(plt_a32_list, density = True, bins= 301);\n",
        "plt.hist(plt_a13_list, density = True, bins= 301);\n"
      ],
      "metadata": {
        "colab": {
          "base_uri": "https://localhost:8080/",
          "height": 432
        },
        "collapsed": true,
        "id": "-DDLsgB6U-CD",
        "outputId": "6514a2c5-695f-47a1-e4b6-71b056949b8a"
      },
      "execution_count": 10,
      "outputs": [
        {
          "output_type": "display_data",
          "data": {
            "text/plain": [
              "<Figure size 640x480 with 1 Axes>"
            ],
            "image/png": "[encoded data removed]"
          },
          "metadata": {}
        }
      ]
    },
    {
      "cell_type": "code",
      "source": [
        "import glob\n",
        "\n",
        "npy_files = glob.glob('*ev.npy')\n",
        "\n",
        "print(npy_files)"
      ],
      "metadata": {
        "colab": {
          "base_uri": "https://localhost:8080/"
        },
        "id": "b1ew6ENdWDjT",
        "outputId": "6ca6a5b0-7078-4b0b-97ca-cb3af8c0ff83"
      },
      "execution_count": null,
      "outputs": [
        {
          "output_type": "stream",
          "name": "stdout",
          "text": [
            "['wpca_white_noise_id_32139_l_5_ev.npy']\n"
          ]
        }
      ]
    },
    {
      "cell_type": "code",
      "source": [],
      "metadata": {
        "id": "7JI-460lWbKs"
      },
      "execution_count": null,
      "outputs": []
    }
  ]
}