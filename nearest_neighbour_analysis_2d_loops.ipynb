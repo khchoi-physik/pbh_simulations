{
  "nbformat": 4,
  "nbformat_minor": 0,
  "metadata": {
    "colab": {
      "provenance": [],
      "authorship_tag": "ABX9TyPhvhRK3z3oRwH2Lw6dLf2U",
      "include_colab_link": true
    },
    "kernelspec": {
      "name": "python3",
      "display_name": "Python 3"
    },
    "language_info": {
      "name": "python"
    }
  },
  "cells": [
    {
      "cell_type": "markdown",
      "metadata": {
        "id": "view-in-github",
        "colab_type": "text"
      },
      "source": [
        "<a href=\"https://colab.research.google.com/github/khchoi-physik/pbh_simulations/blob/main/nearest_neighbour_analysis_2d_loops.ipynb\" target=\"_parent\"><img src=\"https://colab.research.google.com/assets/colab-badge.svg\" alt=\"Open In Colab\"/></a>"
      ]
    },
    {
      "cell_type": "code",
      "execution_count": null,
      "metadata": {
        "id": "H1qZbhoHBOQb"
      },
      "outputs": [],
      "source": [
        "import numpy as np\n",
        "import cupy as cp\n",
        "from scipy.special import erf\n",
        "from sklearn.cluster import DBSCAN\n",
        "import networkx as nx\n",
        "\n",
        "import matplotlib.pyplot as plt\n",
        "from matplotlib import cm\n",
        "\n",
        "import time\n",
        "import glob\n",
        "import os\n",
        "import gc"
      ]
    },
    {
      "cell_type": "code",
      "source": [
        "k_power = 2\n",
        "threshold = 11\n",
        "eps = 100\n",
        "min_samples = 2\n",
        "loops = 100\n",
        "pixel = 2**11\n",
        "l = 1 ## box size = 2L+1"
      ],
      "metadata": {
        "id": "od9q0IL1-S7d"
      },
      "execution_count": null,
      "outputs": []
    },
    {
      "cell_type": "code",
      "source": [
        "def grf_2d(mean, std_dev, pixel, amplitude, k_power):\n",
        "    # Generate white noise in-place\n",
        "    white_noise = cp.random.normal(mean, std_dev, (pixel, pixel))\n",
        "\n",
        "    # 2D Fast Fourier transform of the white noise\n",
        "    fft_white_noise = cp.fft.fft2(white_noise)\n",
        "    del white_noise\n",
        "    gc.collect()\n",
        "\n",
        "    # Generating FFT momentum\n",
        "    kx = cp.fft.fftfreq(pixel) * pixel\n",
        "    ky = cp.fft.fftfreq(pixel) * pixel\n",
        "\n",
        "    # Generating FFT momentum 2D array\n",
        "    kx_grid, ky_grid = cp.meshgrid(kx, ky)\n",
        "    del kx, ky\n",
        "    gc.collect()\n",
        "\n",
        "    # Norm of k\n",
        "    k_norm = cp.sqrt(kx_grid**2 + ky_grid**2)\n",
        "    k_norm[0, 0] = cp.inf  # Regularize divergence at k=0\n",
        "    del kx_grid, ky_grid\n",
        "    gc.collect()\n",
        "\n",
        "    # Power Spectrum P_k\n",
        "    power_spectrum = amplitude * (((2 * cp.pi / pixel) * k_norm) ** (-k_power))\n",
        "    del k_norm  # Free memory\n",
        "    gc.collect()\n",
        "\n",
        "    # Multiply the power spectrum with the transformed white noise to get the realization of the spectrum\n",
        "    fourier_amplitudes_sqrt = cp.sqrt(power_spectrum, out=power_spectrum) * fft_white_noise\n",
        "    del power_spectrum, fft_white_noise  # Free memory\n",
        "    gc.collect()\n",
        "\n",
        "    # Perform inverse Fourier transform to obtain the Gaussian random field in the spatial domain\n",
        "    gaussian_random_field = cp.fft.ifft2(fourier_amplitudes_sqrt).real\n",
        "    del fourier_amplitudes_sqrt  # Free memory\n",
        "    gc.collect()\n",
        "\n",
        "    return gaussian_random_field\n",
        "\n",
        "\n",
        "def gaussian_to_exp(x, lam):\n",
        "    mu = cp.mean(x)\n",
        "    sigma = cp.std(x)\n",
        "    xu = 0.5 * (1 + erf((x - mu) / (cp.sqrt(2) * sigma)))\n",
        "    return -1/lam  * cp.log(1 - xu)\n",
        "\n",
        "\n",
        "\n",
        "def M(c2, c1, threshold):\n",
        "\n",
        "    \"\"\"\n",
        "    First input : above-threshold overdensity\n",
        "    Second input : above-threshold overdensity\n",
        "\n",
        "\n",
        "\n",
        "    Define\n",
        "    M[delta2, delta1]:=0.0311926 (4.25699 + delta1)^4.59551 delta2^4.12181\n",
        "    If[delta1 <= 0.599,\n",
        "    HeavisideTheta[delta2 - 0.002/(delta1 - 0.6) - 0.6], 1]\n",
        "\n",
        "    delta2 (c2) is the amplitude of the above-threshold overdensity,\n",
        "    delta1 (c1) is the amplitude of an overdensity in one of the\n",
        "    nearest-neighbouring patches.\n",
        "\n",
        "    For each nearest-neighbouring patch add deltaM to the mass\n",
        "    of the \"bare\" above-threshold patch, M[0,delta2],\n",
        "    to get the total mass in units of the horizon mass.\n",
        "\n",
        "    \"\"\"\n",
        "\n",
        "\n",
        "    \"\"\"\n",
        "    linearly re-scale the amplitudes delta1 and delta2 such that\n",
        "    0.6 corresponds to the utilised threshold value (at a given rareness).\n",
        "    \"\"\"\n",
        "\n",
        "    c1 = 0.6 * c1 / threshold\n",
        "    c2 = 0.6 * c2 / threshold\n",
        "\n",
        "\n",
        "    if c1 <= 0.599:\n",
        "        return 0.0311926 * (4.25699 + c1)**4.59551 *  c2**4.12181 * np.heaviside(c2 - 0.002/(c1-0.6) - 0.6, 0)\n",
        "\n",
        "    else:\n",
        "        return 0.0311926 * (4.25699 + c1)**4.59551 *  c2**4.12181\n",
        "\n",
        "\n",
        "def dM(c2, c1, threshold):\n",
        "\n",
        "    \"\"\"\n",
        "    Approximate mass increase for each nearest-neighbouring overdensity.\n",
        "    (Through the \"If\" command, I have set it equal to zero whenever the\n",
        "    threshold is not met.)\n",
        "\n",
        "    deltaM[delta1,delta2]:=If[M[0, delta2] == 0, 0, M[delta1, delta2]-M[0, delta2]]\n",
        "    \"\"\"\n",
        "\n",
        "    mass = M(c2,c1,threshold)\n",
        "\n",
        "    if mass == 0:\n",
        "        return 0\n",
        "    else:\n",
        "        return mass - M(c2,0,threshold)\n",
        "\n",
        "\n",
        "\n",
        "# Total mass for a given threshold exceedence in a given cluster\n",
        "# Sum over [k] and the threshold exceedenece\n",
        "def nn_sum(dM_list):\n",
        "    \"\"\"\n",
        "    M_total = Sum_{j in cluster} M[0, delta2_j]\n",
        "    + Sum_{i=1}^{8} deltaM[delta1_i,delta2_j],\n",
        "    wherein the second sum runs over all eight nearest neighbours.\n",
        "    The indices j represents here the threshold exceeding events.\n",
        "    \"\"\"\n",
        "    return np.sum(dM_ijk) + M(d2_ij, 0, threshold)\n",
        "# print(\"neighborhood = \", np.sum(dM_ijk) , \"bare =\",  M(d2_ij, 0, threshold))\n",
        "\n",
        "## Please then make a series of plots for each case (exponential and\n",
        "## Gaußian random fields with n = 0, 1, 2, 3 each), wherein you\n",
        "## compare the initial mass sepctrum (M0) with M_total"
      ],
      "metadata": {
        "id": "zfhSSiu2BZ-W"
      },
      "execution_count": null,
      "outputs": []
    },
    {
      "cell_type": "code",
      "source": [
        "k_power = 2\n",
        "threshold = 11\n",
        "eps = 100\n",
        "min_samples = 2\n",
        "l = 1 ## box size = 2L+1"
      ],
      "metadata": {
        "id": "stl0Yy5qBeYj"
      },
      "execution_count": null,
      "outputs": []
    },
    {
      "cell_type": "code",
      "source": [
        "amplitude_list =[]\n",
        "cluster_mass_list =[]\n",
        "bare_mass_list =[]\n",
        "\n",
        "t0 = time.time()\n",
        "\n",
        "# Generate offsets for the 3x3 box\n",
        "offsets = np.array( [(i,j) for i in range(-l,l+1) for j in range(-l,l+1)])\n",
        "# Generate offsets for the 3x3 box exlcuding center\n",
        "offsets_no_center = np.array( [(i,j) for i in range(-l,l+1) for j in range(-l,l+1) if not (i==0 and j==0)] )\n",
        "\n",
        "# Mask for filtering\n",
        "def filtering(x,y,pixel):\n",
        "    domain_mask = (x >= 0) & (x < pixel) & (y >= 0) & (y < pixel)\n",
        "    return x[domain_mask], y[domain_mask]\n",
        "\n",
        "\n",
        "for nn in range(10000):\n",
        "\n",
        "    if nn%100 == 0:\n",
        "        print(\"Time for hundred loops:\", np.round(time.time() - t0, 2 ) )\n",
        "        t0 = time.time()\n",
        "\n",
        "    exprf = gaussian_to_exp( grf_2d(mean= 0, std_dev = 1, pixel= pixel, amplitude = 1, k_power=k_power), 1)\n",
        "\n",
        "    exprf = cp.asnumpy(exprf)\n",
        "\n",
        "    pos = np.argwhere(exprf > threshold)\n",
        "\n",
        "    clustering = DBSCAN(eps=eps, min_samples=min_samples).fit(pos)\n",
        "\n",
        "    labels = clustering.labels_\n",
        "\n",
        "    num_clt = len(set(labels))\n",
        "    # cmap = cm.get_cmap('rainbow', num_clt)\n",
        "\n",
        "    # Initialize empty dictionary for threshold exceedence\n",
        "    clt_pos_dict = {}\n",
        "    # Initialize empty dictionary to store the all coordinates of the box\n",
        "    coordinates = {}\n",
        "    # Initialize empty dictionary to store the all unqiue coordinates of the box\n",
        "    uni_coordinates = {}\n",
        "    # Initialize empty dictionary to store only the nearest neighbour\n",
        "    coordinates_nn = {}\n",
        "    # Initialize empty dictionary to store o\n",
        "\n",
        "    # Initialize empty dictionary - rank 2 tensor\n",
        "    # Total mass for all threshold exceedence [j] in each clsuter [i]\n",
        "    cluster_mass_list_ij, bare_mass_list_ij = {} , {}\n",
        "\n",
        "\n",
        "    # Iterate over all clustes\n",
        "    for ii in set(labels):\n",
        "\n",
        "        # Find the index of the cluster\n",
        "        clt_idx = np.where(labels == ii)\n",
        "        # Find the coordinates of the cluster using the index\n",
        "        clt_pos = pos[clt_idx]\n",
        "        # Append the coordinates into the dictionary\n",
        "        clt_pos_dict[ii] = clt_pos\n",
        "\n",
        "    \"\"\"\n",
        "    Structure of the dictoinary:\n",
        "    coordinates[i][j] referes to the coordinate of the i-th cluster\n",
        "    and the j-th threshold exceeding events.\n",
        "    \"\"\"\n",
        "\n",
        "    # Iterate over each cluster in labels, exlcuding `-1`\n",
        "    for ii in set(labels) - {-1}:\n",
        "\n",
        "        # Initialize empty list for collecting coordinates in cluster `ii`\n",
        "        coordinates[ii] = []\n",
        "        uni_coordinates[ii] = []\n",
        "        coordinates_nn[ii] = []\n",
        "\n",
        "        # Iterate over the coordinates of each box center\n",
        "        for coor_center in clt_pos_dict[ii]:\n",
        "            # Append the coordinates for the entire box (arrays)\n",
        "            coordinates[ii].append(coor_center + offsets)\n",
        "            # Append the coordinates only for the nearest neighbours\n",
        "            coordinates_nn[ii].append(coor_center + offsets_no_center)\n",
        "\n",
        "        # Concatenate lists of arrays into a single array\n",
        "        coordinates[ii] = np.concatenate(coordinates[ii])\n",
        "\n",
        "        # Remove duplications\n",
        "        uni_coordinates[ii] = np.unique(coordinates[ii], axis=0)\n",
        "\n",
        "    \"\"\"\n",
        "    Define indices and variables:\n",
        "\n",
        "    i = Cluster\n",
        "    j = Threshold Exceedence\n",
        "    k = Nearest Neighbours\n",
        "\n",
        "\n",
        "    d2 = delta2 = Threshold exceedence amplitude\n",
        "    d1 = delta1 = Nearest neighbour amplitude\n",
        "    \"\"\"\n",
        "\n",
        "    # for ii in set(labels) -{-1, 1, 2,3,4}:\n",
        "    for ii in set(labels) -{-1}:\n",
        "        #Intiialize empty list for each cluster for storing m_ijk\n",
        "        cluster_mass_list_ij[ii], bare_mass_list_ij[ii] = [] , []\n",
        "\n",
        "        for jj in range(clt_pos_dict[ii].shape[0]):\n",
        "            ## amplitude of the j-th threshold exceedence in the i-th cluster - rank 2 tensor\n",
        "            d2_ij = exprf[ clt_pos_dict[ii][jj,0], clt_pos_dict[ii][jj,1] ]\n",
        "\n",
        "            x_ijk = coordinates_nn[ii][jj][:,0]\n",
        "            y_ijk = coordinates_nn[ii][jj][:,1]\n",
        "\n",
        "            if (clt_pos_dict[ii][jj,0] == 0 or clt_pos_dict[ii][jj,1] == 0 or clt_pos_dict[ii][jj,0] == pixel -1 or clt_pos_dict[ii][jj,1] == pixel -1 ):\n",
        "                x_ijk, y_ijk = filtering(x_ijk, y_ijk, pixel)\n",
        "                d1_ijk = exprf[x_ijk, y_ijk]\n",
        "\n",
        "            else:\n",
        "                ## amplitudes in the nearest neighbourhood for the j-th threshold exceedence - rank 3 tensor\n",
        "                d1_ijk = exprf[ coordinates_nn[ii][jj][:,0], coordinates_nn[ii][jj][:,1] ]\n",
        "\n",
        "            # Initialize empty list - rank 3 tensor\n",
        "            ## delta M, additional mass due to nearest neighbour\n",
        "            dM_ijk = []\n",
        "\n",
        "            \"\"\"\n",
        "            Define\n",
        "            M[delta2, delta1]:=0.0311926 (4.25699 + delta1)^4.59551 delta2^4.12181\n",
        "            If[delta1 <= 0.599,\n",
        "            HeavisideTheta[delta2 - 0.002/(delta1 - 0.6) - 0.6], 1]\n",
        "\n",
        "            delta2 (d2) is the amplitude of the above-threshold overdensity,\n",
        "            delta1 (d1) is the amplitude of an overdensity in one of the\n",
        "            nearest-neighbouring patches.\n",
        "            \"\"\"\n",
        "\n",
        "            # Calculate additional mass for each nearest neighbour\n",
        "            for d1 in d1_ijk:\n",
        "                dM_ijk.append( dM(d1, d2_ij, threshold) )\n",
        "                # print(\"Amplitude =\", d1, \"Neighbor =\", dM(d1, d2_ij, threshold) )\n",
        "\n",
        "            # Total mass for a given threshold exceedence in a given cluster\n",
        "            cluster_mass_list_ij[ii].append(nn_sum(dM_ijk))\n",
        "            # Bare mass for a given threshold exceedence in a given cluster\n",
        "            bare_mass_list_ij[ii].append(M(d2_ij, 0, threshold))\n",
        "\n",
        "        # Record the total mass of the current cluster\n",
        "        cluster_mass_list.append( np.sum(cluster_mass_list_ij[ii]) )\n",
        "        # Record the total bare mass without nearest neighbours\n",
        "        bare_mass_list.append( np.sum(bare_mass_list_ij[ii]) )\n",
        "        # Record the amplitudes\n",
        "        amplitude_list.append(d2_ij)\n",
        "        amplitude_list.append(d1_ijk)\n",
        ""
      ],
      "metadata": {
        "colab": {
          "base_uri": "https://localhost:8080/"
        },
        "id": "OdOdu-dpBj7d",
        "outputId": "87ee3595-c444-4acd-b638-7c5a15be4547"
      },
      "execution_count": null,
      "outputs": [
        {
          "output_type": "stream",
          "name": "stdout",
          "text": [
            "0\n",
            "1\n",
            "2\n",
            "3\n",
            "4\n",
            "5\n",
            "6\n",
            "7\n",
            "8\n",
            "9\n"
          ]
        }
      ]
    },
    {
      "cell_type": "code",
      "source": [
        "plt.hist(np.concatenate(amplitude_list), bins=201, density=True);"
      ],
      "metadata": {
        "colab": {
          "base_uri": "https://localhost:8080/",
          "height": 430
        },
        "id": "R9tyyS0mB7dM",
        "outputId": "4ebb6821-cfc2-4789-e606-a39bb366efb6"
      },
      "execution_count": null,
      "outputs": [
        {
          "output_type": "display_data",
          "data": {
            "text/plain": [
              "<Figure size 640x480 with 1 Axes>"
            ],
            "image/png": "[encoded data removed]"
          },
          "metadata": {}
        }
      ]
    },
    {
      "cell_type": "code",
      "source": [
        "plt.hist(cluster_mass_list, bins=201, density=True);\n",
        "plt.xscale('log')"
      ],
      "metadata": {
        "colab": {
          "base_uri": "https://localhost:8080/",
          "height": 434
        },
        "id": "4fFYNgOUEn70",
        "outputId": "b211bef9-a901-4a9d-a634-e1823f1c88d0"
      },
      "execution_count": null,
      "outputs": [
        {
          "output_type": "display_data",
          "data": {
            "text/plain": [
              "<Figure size 640x480 with 1 Axes>"
            ],
            "image/png": "[encoded data removed]"
          },
          "metadata": {}
        }
      ]
    },
    {
      "cell_type": "code",
      "source": [
        "plt.hist(bare_mass_list,bins=201,density=True);"
      ],
      "metadata": {
        "colab": {
          "base_uri": "https://localhost:8080/",
          "height": 430
        },
        "id": "eoz623W7MZii",
        "outputId": "88216f00-db90-41d1-fc07-0b4b3bc8fe00"
      },
      "execution_count": null,
      "outputs": [
        {
          "output_type": "display_data",
          "data": {
            "text/plain": [
              "<Figure size 640x480 with 1 Axes>"
            ],
            "image/png": "[encoded data removed]"
          },
          "metadata": {}
        }
      ]
    },
    {
      "cell_type": "code",
      "source": [],
      "metadata": {
        "id": "-iA4lKozPW82"
      },
      "execution_count": null,
      "outputs": []
    },
    {
      "cell_type": "code",
      "source": [
        "\n",
        "\n",
        "# Sort based on the first item in each sublist\n",
        "sorted_data = sorted(data, key=lambda x: x[0])\n"
      ],
      "metadata": {
        "colab": {
          "base_uri": "https://localhost:8080/"
        },
        "id": "kVgVhYqGMaxR",
        "outputId": "7c02b435-5c2f-44e4-9e41-996dc7a16fdf"
      },
      "execution_count": null,
      "outputs": [
        {
          "output_type": "execute_result",
          "data": {
            "text/plain": [
              "[[1, 7], [2, 3], [4, 5]]"
            ]
          },
          "metadata": {},
          "execution_count": 1
        }
      ]
    },
    {
      "cell_type": "code",
      "source": [],
      "metadata": {
        "id": "hrd7DcV5PBN-"
      },
      "execution_count": null,
      "outputs": []
    }
  ]
}